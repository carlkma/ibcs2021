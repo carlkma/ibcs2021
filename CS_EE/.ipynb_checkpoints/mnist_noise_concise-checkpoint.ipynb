{
 "cells": [
  {
   "cell_type": "code",
   "execution_count": 43,
   "metadata": {},
   "outputs": [],
   "source": [
    "# -- IMPORTS -- #\n",
    "import math\n",
    "import scipy\n",
    "import numpy as np\n",
    "from skimage import util\n",
    "import matplotlib.pyplot as plt\n",
    "from keras.datasets import mnist\n",
    "from keras.utils import to_categorical"
   ]
  },
  {
   "cell_type": "code",
   "execution_count": 44,
   "metadata": {},
   "outputs": [],
   "source": [
    "# -- TRAIN AND TEST DATA PREPARATION -- #\n",
    "(x_train, y_train), (x_test, y_test) = mnist.load_data()\n",
    "x_test_noisy = np.empty((len(x_test),28,28),dtype=\"float64\")\n",
    "\n",
    "std = 0.005\n",
    "for i in range(len(x_test)):\n",
    "    x_test_noisy[i] = util.random_noise(x_test[i],mode=\"gaussian\",var=std**2)"
   ]
  },
  {
   "cell_type": "code",
   "execution_count": 45,
   "metadata": {},
   "outputs": [
    {
     "name": "stdout",
     "output_type": "stream",
     "text": [
      "38.034187905770814\n"
     ]
    },
    {
     "data": {
      "image/png": "[encoded data removed]",
      "text/plain": [
       "<Figure size 432x288 with 1 Axes>"
      ]
     },
     "metadata": {
      "needs_background": "light"
     },
     "output_type": "display_data"
    }
   ],
   "source": [
    "# -- OUTPUT SNR AND SAMPLE NOISY IMAGE -- #\n",
    "p_signal = np.mean(x_test[30])\n",
    "p_noise = std\n",
    "snr = 10 * math.log(p_signal/p_noise,10)\n",
    "print(snr)\n",
    "\n",
    "plt.imshow(x_test_noisy[30],cmap=plt.cm.binary)\n",
    "plt.show()"
   ]
  },
  {
   "cell_type": "code",
   "execution_count": 46,
   "metadata": {},
   "outputs": [],
   "source": [
    "# -- CONVERTING DATA FOR INPUT INTO NEURAL NETWORK -- #\n",
    "x_train = x_train.reshape((60000,28*28))\n",
    "x_train = x_train.astype(\"float32\") / 255\n",
    "\n",
    "x_test = x_test.reshape((10000,28*28))\n",
    "x_test_noisy = x_test_noisy.reshape((10000,28*28))\n",
    "\n",
    "y_train = to_categorical(y_train)\n",
    "y_test = to_categorical(y_test)"
   ]
  },
  {
   "cell_type": "code",
   "execution_count": 47,
   "metadata": {},
   "outputs": [
    {
     "name": "stderr",
     "output_type": "stream",
     "text": [
      "C:\\Users\\Carl\\.conda\\envs\\tf\\lib\\site-packages\\sklearn\\decomposition\\_fastica.py:120: ConvergenceWarning: FastICA did not converge. Consider increasing tolerance or the maximum number of iterations.\n",
      "  ConvergenceWarning)\n"
     ]
    }
   ],
   "source": [
    "# -- DIMENSIONALITY REDUCTION -- #\n",
    "import dim_reduction\n",
    "x_train, x_test_noisy = dim_reduction.apply(30, x_train, x_test_noisy, \"asdf\")"
   ]
  },
  {
   "cell_type": "code",
   "execution_count": 48,
   "metadata": {},
   "outputs": [
    {
     "name": "stdout",
     "output_type": "stream",
     "text": [
      "Train on 60000 samples, validate on 10000 samples\n",
      "Epoch 1/30\n",
      "60000/60000 [==============================] - 0s 6us/step - loss: 2.2998 - accuracy: 0.1397 - val_loss: 2.2983 - val_accuracy: 0.1141\n",
      "Epoch 2/30\n",
      "60000/60000 [==============================] - 0s 4us/step - loss: 2.2972 - accuracy: 0.1132 - val_loss: 2.2959 - val_accuracy: 0.1137\n",
      "Epoch 3/30\n",
      "60000/60000 [==============================] - 0s 5us/step - loss: 2.2948 - accuracy: 0.1129 - val_loss: 2.2934 - val_accuracy: 0.1136\n",
      "Epoch 4/30\n",
      "60000/60000 [==============================] - 0s 4us/step - loss: 2.2923 - accuracy: 0.1128 - val_loss: 2.2908 - val_accuracy: 0.1136\n",
      "Epoch 5/30\n",
      "60000/60000 [==============================] - 0s 4us/step - loss: 2.2896 - accuracy: 0.1131 - val_loss: 2.2880 - val_accuracy: 0.1136\n",
      "Epoch 6/30\n",
      "60000/60000 [==============================] - 0s 4us/step - loss: 2.2868 - accuracy: 0.1133 - val_loss: 2.2850 - val_accuracy: 0.1137\n",
      "Epoch 7/30\n",
      "60000/60000 [==============================] - 0s 4us/step - loss: 2.2837 - accuracy: 0.1138 - val_loss: 2.2817 - val_accuracy: 0.1146\n",
      "Epoch 8/30\n",
      "60000/60000 [==============================] - 0s 3us/step - loss: 2.2803 - accuracy: 0.1151 - val_loss: 2.2782 - val_accuracy: 0.1179\n",
      "Epoch 9/30\n",
      "60000/60000 [==============================] - 0s 3us/step - loss: 2.2767 - accuracy: 0.1204 - val_loss: 2.2744 - val_accuracy: 0.1205\n",
      "Epoch 10/30\n",
      "60000/60000 [==============================] - 0s 3us/step - loss: 2.2728 - accuracy: 0.1252 - val_loss: 2.2703 - val_accuracy: 0.1290\n",
      "Epoch 11/30\n",
      "60000/60000 [==============================] - 0s 3us/step - loss: 2.2686 - accuracy: 0.1333 - val_loss: 2.2660 - val_accuracy: 0.1552\n",
      "Epoch 12/30\n",
      "60000/60000 [==============================] - 0s 3us/step - loss: 2.2641 - accuracy: 0.1585 - val_loss: 2.2613 - val_accuracy: 0.1767\n",
      "Epoch 13/30\n",
      "60000/60000 [==============================] - 0s 3us/step - loss: 2.2594 - accuracy: 0.1749 - val_loss: 2.2563 - val_accuracy: 0.2121\n",
      "Epoch 14/30\n",
      "60000/60000 [==============================] - 0s 3us/step - loss: 2.2543 - accuracy: 0.2214 - val_loss: 2.2510 - val_accuracy: 0.2085\n",
      "Epoch 15/30\n",
      "60000/60000 [==============================] - 0s 3us/step - loss: 2.2489 - accuracy: 0.2202 - val_loss: 2.2455 - val_accuracy: 0.2795\n",
      "Epoch 16/30\n",
      "60000/60000 [==============================] - 0s 3us/step - loss: 2.2432 - accuracy: 0.2824 - val_loss: 2.2396 - val_accuracy: 0.3030\n",
      "Epoch 17/30\n",
      "60000/60000 [==============================] - 0s 3us/step - loss: 2.2372 - accuracy: 0.3064 - val_loss: 2.2333 - val_accuracy: 0.3481\n",
      "Epoch 18/30\n",
      "60000/60000 [==============================] - 0s 3us/step - loss: 2.2309 - accuracy: 0.3402 - val_loss: 2.2268 - val_accuracy: 0.3949\n",
      "Epoch 19/30\n",
      "60000/60000 [==============================] - 0s 4us/step - loss: 2.2242 - accuracy: 0.3821 - val_loss: 2.2199 - val_accuracy: 0.4163\n",
      "Epoch 20/30\n",
      "60000/60000 [==============================] - 0s 4us/step - loss: 2.2173 - accuracy: 0.4150 - val_loss: 2.2127 - val_accuracy: 0.4419\n",
      "Epoch 21/30\n",
      "60000/60000 [==============================] - 0s 4us/step - loss: 2.2100 - accuracy: 0.4459 - val_loss: 2.2052 - val_accuracy: 0.4682\n",
      "Epoch 22/30\n",
      "60000/60000 [==============================] - 0s 3us/step - loss: 2.2025 - accuracy: 0.4698 - val_loss: 2.1975 - val_accuracy: 0.4954\n",
      "Epoch 23/30\n",
      "60000/60000 [==============================] - 0s 4us/step - loss: 2.1946 - accuracy: 0.5132 - val_loss: 2.1893 - val_accuracy: 0.4930\n",
      "Epoch 24/30\n",
      "60000/60000 [==============================] - 0s 3us/step - loss: 2.1863 - accuracy: 0.5020 - val_loss: 2.1808 - val_accuracy: 0.5578\n",
      "Epoch 25/30\n",
      "60000/60000 [==============================] - 0s 3us/step - loss: 2.1777 - accuracy: 0.5620 - val_loss: 2.1720 - val_accuracy: 0.5525\n",
      "Epoch 26/30\n",
      "60000/60000 [==============================] - 0s 4us/step - loss: 2.1689 - accuracy: 0.5650 - val_loss: 2.1629 - val_accuracy: 0.5828\n",
      "Epoch 27/30\n",
      "60000/60000 [==============================] - 0s 3us/step - loss: 2.1598 - accuracy: 0.5868 - val_loss: 2.1534 - val_accuracy: 0.6064\n",
      "Epoch 28/30\n",
      "60000/60000 [==============================] - 0s 4us/step - loss: 2.1503 - accuracy: 0.6127 - val_loss: 2.1437 - val_accuracy: 0.6210\n",
      "Epoch 29/30\n",
      "60000/60000 [==============================] - 0s 4us/step - loss: 2.1405 - accuracy: 0.6074 - val_loss: 2.1338 - val_accuracy: 0.6622\n",
      "Epoch 30/30\n",
      "60000/60000 [==============================] - 0s 4us/step - loss: 2.1304 - accuracy: 0.6517 - val_loss: 2.1234 - val_accuracy: 0.6474\n"
     ]
    }
   ],
   "source": [
    "# -- NEURAL NETWORK -- #\n",
    "import neural_network\n",
    "history = neural_network.fit(30, 30, x_train, y_train, x_test_noisy, y_test)"
   ]
  },
  {
   "cell_type": "code",
   "execution_count": 49,
   "metadata": {},
   "outputs": [
    {
     "data": {
      "image/png": "[encoded data removed]",
      "text/plain": [
       "<Figure size 432x288 with 1 Axes>"
      ]
     },
     "metadata": {
      "needs_background": "light"
     },
     "output_type": "display_data"
    }
   ],
   "source": [
    "# -- OUTPUT PLOTS -- #\n",
    "plt.plot(history.history[\"val_accuracy\"])\n",
    "plt.title(\"Model Accuracy (Gaussain)\")\n",
    "plt.ylabel(\"Accuracy\")\n",
    "plt.xlabel(\"Epoch\")\n",
    "plt.legend([\"a\"],loc=\"lower right\")\n",
    "plt.show()"
   ]
  }
 ],
 "metadata": {
  "kernelspec": {
   "display_name": "tf",
   "language": "python",
   "name": "tf"
  },
  "language_info": {
   "codemirror_mode": {
    "name": "ipython",
    "version": 3
   },
   "file_extension": ".py",
   "mimetype": "text/x-python",
   "name": "python",
   "nbconvert_exporter": "python",
   "pygments_lexer": "ipython3",
   "version": "3.7.9"
  }
 },
 "nbformat": 4,
 "nbformat_minor": 4
}
