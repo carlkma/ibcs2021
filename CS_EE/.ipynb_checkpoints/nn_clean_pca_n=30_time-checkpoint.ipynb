{
 "cells": [
  {
   "cell_type": "code",
   "execution_count": 39,
   "metadata": {},
   "outputs": [],
   "source": [
    "# STATE: DONE & ARCHIVED\n",
    "\n",
    "# VARIABLE: NONE\n",
    "# CONSTANT: METHOD OF DR (PCA, n=30)\n",
    "# NOISE: NO NOISE\n",
    "# OUTPUT: TIME AND SPACE NEEDED"
   ]
  },
  {
   "cell_type": "code",
   "execution_count": 40,
   "metadata": {},
   "outputs": [],
   "source": [
    "# -- IMPORTS -- #\n",
    "import math\n",
    "import scipy\n",
    "import numpy as np\n",
    "from skimage import util\n",
    "import matplotlib.pyplot as plt\n",
    "from keras.datasets import mnist\n",
    "from keras.utils import to_categorical\n",
    "import time\n",
    "import os\n",
    "import psutil"
   ]
  },
  {
   "cell_type": "code",
   "execution_count": 41,
   "metadata": {},
   "outputs": [],
   "source": [
    "# -- TRAIN AND TEST DATA PREPARATION -- #\n",
    "(x_train, y_train), (x_test, y_test) = mnist.load_data()"
   ]
  },
  {
   "cell_type": "code",
   "execution_count": 42,
   "metadata": {},
   "outputs": [],
   "source": [
    "# -- CONVERTING DATA FOR INPUT INTO NEURAL NETWORK -- #\n",
    "x_train = x_train.reshape((60000,28*28))\n",
    "x_train = x_train.astype(\"float32\") / 255\n",
    "\n",
    "x_test = x_test.reshape((10000,28*28))\n",
    "x_test = x_test.astype(\"float32\") / 255\n",
    "\n",
    "y_train = to_categorical(y_train)\n",
    "y_test = to_categorical(y_test)"
   ]
  },
  {
   "cell_type": "code",
   "execution_count": 43,
   "metadata": {},
   "outputs": [],
   "source": [
    "# -- DIMENSIONALITY REDUCTION -- #\n",
    "start = time.time()\n",
    "import dim_reduction\n",
    "x_train0, x_test0 = dim_reduction.apply(30, x_train, x_test, \"PCA\")"
   ]
  },
  {
   "cell_type": "code",
   "execution_count": 44,
   "metadata": {},
   "outputs": [
    {
     "name": "stdout",
     "output_type": "stream",
     "text": [
      "Train on 60000 samples, validate on 10000 samples\n",
      "Epoch 1/30\n",
      "60000/60000 [==============================] - 0s 4us/step - loss: 2.7480 - accuracy: 0.1831 - val_loss: 1.9675 - val_accuracy: 0.3545\n",
      "Epoch 2/30\n",
      "60000/60000 [==============================] - 0s 3us/step - loss: 1.5085 - accuracy: 0.5285 - val_loss: 1.0920 - val_accuracy: 0.6865\n",
      "Epoch 3/30\n",
      "60000/60000 [==============================] - 0s 3us/step - loss: 0.8886 - accuracy: 0.7552 - val_loss: 0.6999 - val_accuracy: 0.8094\n",
      "Epoch 4/30\n",
      "60000/60000 [==============================] - 0s 3us/step - loss: 0.6129 - accuracy: 0.8310 - val_loss: 0.5224 - val_accuracy: 0.8562\n",
      "Epoch 5/30\n",
      "60000/60000 [==============================] - 0s 3us/step - loss: 0.4820 - accuracy: 0.8655 - val_loss: 0.4334 - val_accuracy: 0.8782\n",
      "Epoch 6/30\n",
      "60000/60000 [==============================] - 0s 3us/step - loss: 0.4117 - accuracy: 0.8837 - val_loss: 0.3823 - val_accuracy: 0.8908\n",
      "Epoch 7/30\n",
      "60000/60000 [==============================] - 0s 3us/step - loss: 0.3685 - accuracy: 0.8952 - val_loss: 0.3481 - val_accuracy: 0.8994\n",
      "Epoch 8/30\n",
      "60000/60000 [==============================] - 0s 3us/step - loss: 0.3391 - accuracy: 0.9019 - val_loss: 0.3239 - val_accuracy: 0.9055\n",
      "Epoch 9/30\n",
      "60000/60000 [==============================] - 0s 3us/step - loss: 0.3172 - accuracy: 0.9079 - val_loss: 0.3050 - val_accuracy: 0.9111\n",
      "Epoch 10/30\n",
      "60000/60000 [==============================] - 0s 3us/step - loss: 0.3000 - accuracy: 0.9121 - val_loss: 0.2904 - val_accuracy: 0.9144\n",
      "Epoch 11/30\n",
      "60000/60000 [==============================] - 0s 3us/step - loss: 0.2857 - accuracy: 0.9160 - val_loss: 0.2782 - val_accuracy: 0.9185\n",
      "Epoch 12/30\n",
      "60000/60000 [==============================] - 0s 3us/step - loss: 0.2737 - accuracy: 0.9192 - val_loss: 0.2675 - val_accuracy: 0.9218\n",
      "Epoch 13/30\n",
      "60000/60000 [==============================] - 0s 3us/step - loss: 0.2633 - accuracy: 0.9217 - val_loss: 0.2583 - val_accuracy: 0.9235\n",
      "Epoch 14/30\n",
      "60000/60000 [==============================] - 0s 3us/step - loss: 0.2540 - accuracy: 0.9244 - val_loss: 0.2504 - val_accuracy: 0.9260\n",
      "Epoch 15/30\n",
      "60000/60000 [==============================] - 0s 3us/step - loss: 0.2459 - accuracy: 0.9265 - val_loss: 0.2433 - val_accuracy: 0.9280\n",
      "Epoch 16/30\n",
      "60000/60000 [==============================] - 0s 3us/step - loss: 0.2385 - accuracy: 0.9288 - val_loss: 0.2365 - val_accuracy: 0.9297\n",
      "Epoch 17/30\n",
      "60000/60000 [==============================] - 0s 3us/step - loss: 0.2318 - accuracy: 0.9308 - val_loss: 0.2309 - val_accuracy: 0.9323\n",
      "Epoch 18/30\n",
      "60000/60000 [==============================] - 0s 3us/step - loss: 0.2256 - accuracy: 0.9323 - val_loss: 0.2258 - val_accuracy: 0.9332\n",
      "Epoch 19/30\n",
      "60000/60000 [==============================] - 0s 3us/step - loss: 0.2199 - accuracy: 0.9337 - val_loss: 0.2208 - val_accuracy: 0.9344\n",
      "Epoch 20/30\n",
      "60000/60000 [==============================] - 0s 3us/step - loss: 0.2147 - accuracy: 0.9355 - val_loss: 0.2161 - val_accuracy: 0.9364\n",
      "Epoch 21/30\n",
      "60000/60000 [==============================] - 0s 3us/step - loss: 0.2097 - accuracy: 0.9370 - val_loss: 0.2115 - val_accuracy: 0.9372\n",
      "Epoch 22/30\n",
      "60000/60000 [==============================] - 0s 3us/step - loss: 0.2052 - accuracy: 0.9381 - val_loss: 0.2077 - val_accuracy: 0.9387\n",
      "Epoch 23/30\n",
      "60000/60000 [==============================] - 0s 3us/step - loss: 0.2008 - accuracy: 0.9394 - val_loss: 0.2038 - val_accuracy: 0.9393\n",
      "Epoch 24/30\n",
      "60000/60000 [==============================] - 0s 3us/step - loss: 0.1968 - accuracy: 0.9409 - val_loss: 0.2007 - val_accuracy: 0.9412\n",
      "Epoch 25/30\n",
      "60000/60000 [==============================] - 0s 3us/step - loss: 0.1930 - accuracy: 0.9419 - val_loss: 0.1972 - val_accuracy: 0.9414\n",
      "Epoch 26/30\n",
      "60000/60000 [==============================] - 0s 3us/step - loss: 0.1894 - accuracy: 0.9431 - val_loss: 0.1940 - val_accuracy: 0.9426\n",
      "Epoch 27/30\n",
      "60000/60000 [==============================] - 0s 3us/step - loss: 0.1860 - accuracy: 0.9441 - val_loss: 0.1911 - val_accuracy: 0.9434\n",
      "Epoch 28/30\n",
      "60000/60000 [==============================] - 0s 3us/step - loss: 0.1827 - accuracy: 0.9449 - val_loss: 0.1883 - val_accuracy: 0.9439\n",
      "Epoch 29/30\n",
      "60000/60000 [==============================] - 0s 3us/step - loss: 0.1796 - accuracy: 0.9457 - val_loss: 0.1856 - val_accuracy: 0.9452\n",
      "Epoch 30/30\n",
      "60000/60000 [==============================] - 0s 3us/step - loss: 0.1768 - accuracy: 0.9465 - val_loss: 0.1829 - val_accuracy: 0.9459\n"
     ]
    }
   ],
   "source": [
    "# -- NEURAL NETWORK -- #\n",
    "import neural_network\n",
    "history0 = neural_network.fit(30, 30, x_train0, y_train, x_test0, y_test)\n",
    "end = time.time()"
   ]
  },
  {
   "cell_type": "code",
   "execution_count": 45,
   "metadata": {},
   "outputs": [
    {
     "name": "stdout",
     "output_type": "stream",
     "text": [
      "8.393452882766724\n",
      "516939776\n"
     ]
    }
   ],
   "source": [
    "print(end-start)\n",
    "process = psutil.Process(os.getpid())\n",
    "print(process.memory_info().rss) # in bytes\n",
    "\n",
    "# rss: aka “Resident Set Size”, this is the non-swapped physical memory a process has used.\n",
    "# https://psutil.readthedocs.io/en/latest/#psutil.Process.memory_info"
   ]
  }
 ],
 "metadata": {
  "kernelspec": {
   "display_name": "tf",
   "language": "python",
   "name": "tf"
  },
  "language_info": {
   "codemirror_mode": {
    "name": "ipython",
    "version": 3
   },
   "file_extension": ".py",
   "mimetype": "text/x-python",
   "name": "python",
   "nbconvert_exporter": "python",
   "pygments_lexer": "ipython3",
   "version": "3.7.9"
  }
 },
 "nbformat": 4,
 "nbformat_minor": 4
}
