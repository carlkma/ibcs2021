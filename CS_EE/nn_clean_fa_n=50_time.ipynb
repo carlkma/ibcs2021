{
 "cells": [
  {
   "cell_type": "code",
   "execution_count": 22,
   "metadata": {},
   "outputs": [],
   "source": [
    "# STATE: DONE & ARCHIVED\n",
    "\n",
    "# VARIABLE: NONE\n",
    "# CONSTANT: METHOD OF DR (FA, n=30)\n",
    "# NOISE: NO NOISE\n",
    "# OUTPUT: TIME AND SPACE NEEDED"
   ]
  },
  {
   "cell_type": "code",
   "execution_count": 23,
   "metadata": {},
   "outputs": [],
   "source": [
    "# -- IMPORTS -- #\n",
    "import math\n",
    "import scipy\n",
    "import numpy as np\n",
    "from skimage import util\n",
    "import matplotlib.pyplot as plt\n",
    "from keras.datasets import mnist\n",
    "from keras.utils import to_categorical\n",
    "import time\n",
    "import os\n",
    "import psutil"
   ]
  },
  {
   "cell_type": "code",
   "execution_count": 24,
   "metadata": {},
   "outputs": [],
   "source": [
    "# -- TRAIN AND TEST DATA PREPARATION -- #\n",
    "(x_train, y_train), (x_test, y_test) = mnist.load_data()"
   ]
  },
  {
   "cell_type": "code",
   "execution_count": 25,
   "metadata": {},
   "outputs": [],
   "source": [
    "# -- CONVERTING DATA FOR INPUT INTO NEURAL NETWORK -- #\n",
    "x_train = x_train.reshape((60000,28*28))\n",
    "x_train = x_train.astype(\"float32\") / 255\n",
    "\n",
    "x_test = x_test.reshape((10000,28*28))\n",
    "x_test = x_test.astype(\"float32\") / 255\n",
    "\n",
    "y_train = to_categorical(y_train)\n",
    "y_test = to_categorical(y_test)"
   ]
  },
  {
   "cell_type": "code",
   "execution_count": 26,
   "metadata": {},
   "outputs": [],
   "source": [
    "# -- DIMENSIONALITY REDUCTION -- #\n",
    "start = time.time()\n",
    "import dim_reduction\n",
    "x_train0, x_test0 = dim_reduction.apply(50, x_train, x_test, \"FA\")"
   ]
  },
  {
   "cell_type": "code",
   "execution_count": 27,
   "metadata": {},
   "outputs": [
    {
     "name": "stdout",
     "output_type": "stream",
     "text": [
      "Train on 60000 samples, validate on 10000 samples\n",
      "Epoch 1/30\n",
      "60000/60000 [==============================] - 0s 4us/step - loss: 2.2076 - accuracy: 0.2326 - val_loss: 1.9960 - val_accuracy: 0.3574\n",
      "Epoch 2/30\n",
      "60000/60000 [==============================] - 0s 4us/step - loss: 1.8332 - accuracy: 0.4666 - val_loss: 1.6462 - val_accuracy: 0.5835\n",
      "Epoch 3/30\n",
      "60000/60000 [==============================] - 0s 3us/step - loss: 1.5098 - accuracy: 0.6531 - val_loss: 1.3434 - val_accuracy: 0.7286\n",
      "Epoch 4/30\n",
      "60000/60000 [==============================] - 0s 3us/step - loss: 1.2335 - accuracy: 0.7589 - val_loss: 1.0881 - val_accuracy: 0.8061\n",
      "Epoch 5/30\n",
      "60000/60000 [==============================] - 0s 3us/step - loss: 1.0053 - accuracy: 0.8126 - val_loss: 0.8823 - val_accuracy: 0.8440\n",
      "Epoch 6/30\n",
      "60000/60000 [==============================] - 0s 4us/step - loss: 0.8243 - accuracy: 0.8418 - val_loss: 0.7219 - val_accuracy: 0.8662\n",
      "Epoch 7/30\n",
      "60000/60000 [==============================] - 0s 3us/step - loss: 0.6851 - accuracy: 0.8611 - val_loss: 0.6017 - val_accuracy: 0.8805\n",
      "Epoch 8/30\n",
      "60000/60000 [==============================] - 0s 3us/step - loss: 0.5806 - accuracy: 0.8761 - val_loss: 0.5125 - val_accuracy: 0.8929\n",
      "Epoch 9/30\n",
      "60000/60000 [==============================] - 0s 3us/step - loss: 0.5021 - accuracy: 0.8876 - val_loss: 0.4466 - val_accuracy: 0.9024\n",
      "Epoch 10/30\n",
      "60000/60000 [==============================] - 0s 3us/step - loss: 0.4436 - accuracy: 0.8954 - val_loss: 0.3980 - val_accuracy: 0.9088\n",
      "Epoch 11/30\n",
      "60000/60000 [==============================] - 0s 3us/step - loss: 0.3994 - accuracy: 0.9021 - val_loss: 0.3617 - val_accuracy: 0.9133\n",
      "Epoch 12/30\n",
      "60000/60000 [==============================] - 0s 3us/step - loss: 0.3657 - accuracy: 0.9076 - val_loss: 0.3341 - val_accuracy: 0.9168\n",
      "Epoch 13/30\n",
      "60000/60000 [==============================] - 0s 4us/step - loss: 0.3394 - accuracy: 0.9117 - val_loss: 0.3125 - val_accuracy: 0.9200\n",
      "Epoch 14/30\n",
      "60000/60000 [==============================] - 0s 4us/step - loss: 0.3184 - accuracy: 0.9161 - val_loss: 0.2952 - val_accuracy: 0.9223\n",
      "Epoch 15/30\n",
      "60000/60000 [==============================] - 0s 3us/step - loss: 0.3012 - accuracy: 0.9194 - val_loss: 0.2810 - val_accuracy: 0.9250\n",
      "Epoch 16/30\n",
      "60000/60000 [==============================] - 0s 4us/step - loss: 0.2869 - accuracy: 0.9222 - val_loss: 0.2692 - val_accuracy: 0.9284\n",
      "Epoch 17/30\n",
      "60000/60000 [==============================] - 0s 3us/step - loss: 0.2747 - accuracy: 0.9244 - val_loss: 0.2591 - val_accuracy: 0.9291\n",
      "Epoch 18/30\n",
      "60000/60000 [==============================] - 0s 3us/step - loss: 0.2641 - accuracy: 0.9269 - val_loss: 0.2503 - val_accuracy: 0.9309\n",
      "Epoch 19/30\n",
      "60000/60000 [==============================] - 0s 3us/step - loss: 0.2548 - accuracy: 0.9288 - val_loss: 0.2427 - val_accuracy: 0.9329\n",
      "Epoch 20/30\n",
      "60000/60000 [==============================] - 0s 4us/step - loss: 0.2465 - accuracy: 0.9312 - val_loss: 0.2358 - val_accuracy: 0.9344\n",
      "Epoch 21/30\n",
      "60000/60000 [==============================] - 0s 4us/step - loss: 0.2390 - accuracy: 0.9328 - val_loss: 0.2296 - val_accuracy: 0.9360\n",
      "Epoch 22/30\n",
      "60000/60000 [==============================] - 0s 3us/step - loss: 0.2322 - accuracy: 0.9346 - val_loss: 0.2240 - val_accuracy: 0.9378\n",
      "Epoch 23/30\n",
      "60000/60000 [==============================] - 0s 4us/step - loss: 0.2260 - accuracy: 0.9363 - val_loss: 0.2187 - val_accuracy: 0.9388\n",
      "Epoch 24/30\n",
      "60000/60000 [==============================] - 0s 4us/step - loss: 0.2202 - accuracy: 0.9379 - val_loss: 0.2138 - val_accuracy: 0.9395\n",
      "Epoch 25/30\n",
      "60000/60000 [==============================] - 0s 3us/step - loss: 0.2149 - accuracy: 0.9391 - val_loss: 0.2092 - val_accuracy: 0.9407\n",
      "Epoch 26/30\n",
      "60000/60000 [==============================] - 0s 4us/step - loss: 0.2098 - accuracy: 0.9407 - val_loss: 0.2051 - val_accuracy: 0.9423\n",
      "Epoch 27/30\n",
      "60000/60000 [==============================] - 0s 4us/step - loss: 0.2051 - accuracy: 0.9419 - val_loss: 0.2011 - val_accuracy: 0.9430\n",
      "Epoch 28/30\n",
      "60000/60000 [==============================] - 0s 3us/step - loss: 0.2007 - accuracy: 0.9431 - val_loss: 0.1974 - val_accuracy: 0.9440\n",
      "Epoch 29/30\n",
      "60000/60000 [==============================] - 0s 4us/step - loss: 0.1965 - accuracy: 0.9443 - val_loss: 0.1939 - val_accuracy: 0.9452\n",
      "Epoch 30/30\n",
      "60000/60000 [==============================] - 0s 4us/step - loss: 0.1925 - accuracy: 0.9455 - val_loss: 0.1906 - val_accuracy: 0.9462\n"
     ]
    }
   ],
   "source": [
    "# -- NEURAL NETWORK -- #\n",
    "import neural_network\n",
    "history0 = neural_network.fit(50, 30, x_train0, y_train, x_test0, y_test)\n",
    "end = time.time()"
   ]
  },
  {
   "cell_type": "code",
   "execution_count": 28,
   "metadata": {},
   "outputs": [
    {
     "name": "stdout",
     "output_type": "stream",
     "text": [
      "16.48345708847046\n",
      "374808576\n"
     ]
    }
   ],
   "source": [
    "print(end-start)\n",
    "process = psutil.Process(os.getpid())\n",
    "print(process.memory_info().rss) # in bytes\n",
    "\n",
    "# rss: aka “Resident Set Size”, this is the non-swapped physical memory a process has used.\n",
    "# https://psutil.readthedocs.io/en/latest/#psutil.Process.memory_info"
   ]
  }
 ],
 "metadata": {
  "kernelspec": {
   "display_name": "tf",
   "language": "python",
   "name": "tf"
  },
  "language_info": {
   "codemirror_mode": {
    "name": "ipython",
    "version": 3
   },
   "file_extension": ".py",
   "mimetype": "text/x-python",
   "name": "python",
   "nbconvert_exporter": "python",
   "pygments_lexer": "ipython3",
   "version": "3.7.9"
  }
 },
 "nbformat": 4,
 "nbformat_minor": 4
}
