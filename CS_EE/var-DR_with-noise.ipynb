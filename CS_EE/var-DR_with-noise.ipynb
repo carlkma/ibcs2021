{
 "cells": [
  {
   "cell_type": "code",
   "execution_count": 22,
   "metadata": {},
   "outputs": [
    {
     "data": {
      "text/plain": [
       "'\\nVARIABLE: METHOD OF DR\\n\\nCONSTANT: N_EPOCHS, N_COMPONENTS, NOISE TYPE AND MAGNITUDE\\n          (30)      (30)          (SPECKLE, std=10)\\n\\n'"
      ]
     },
     "execution_count": 22,
     "metadata": {},
     "output_type": "execute_result"
    }
   ],
   "source": [
    "'''\n",
    "VARIABLE: METHOD OF DR\n",
    "\n",
    "\n",
    "'''"
   ]
  },
  {
   "cell_type": "code",
   "execution_count": 23,
   "metadata": {},
   "outputs": [],
   "source": [
    "# -- IMPORTS -- #\n",
    "import math\n",
    "import scipy\n",
    "import numpy as np\n",
    "from skimage import util\n",
    "import matplotlib.pyplot as plt\n",
    "from keras.datasets import mnist\n",
    "from keras.utils import to_categorical"
   ]
  },
  {
   "cell_type": "code",
   "execution_count": 24,
   "metadata": {},
   "outputs": [],
   "source": [
    "# -- TRAIN AND TEST DATA PREPARATION -- #\n",
    "(x_train, y_train), (x_test, y_test) = mnist.load_data()\n",
    "x_test_noisy = np.empty((len(x_test),28,28),dtype=\"float64\")\n",
    "\n",
    "std = 0.1\n",
    "for i in range(len(x_test)):\n",
    "    x_test_noisy[i] = util.random_noise(x_test[i],mode=\"gaussian\",var=std**2)"
   ]
  },
  {
   "cell_type": "code",
   "execution_count": 25,
   "metadata": {},
   "outputs": [
    {
     "name": "stdout",
     "output_type": "stream",
     "text": [
      "25.023887949131005\n"
     ]
    },
    {
     "data": {
      "image/png": "[encoded data removed]",
      "text/plain": [
       "<Figure size 432x288 with 1 Axes>"
      ]
     },
     "metadata": {
      "needs_background": "light"
     },
     "output_type": "display_data"
    }
   ],
   "source": [
    "# -- OUTPUT SNR AND SAMPLE NOISY IMAGE -- #\n",
    "p_signal = np.mean(x_test[30])\n",
    "p_noise = std\n",
    "snr = 10 * math.log(p_signal/p_noise,10)\n",
    "print(snr)\n",
    "\n",
    "plt.imshow(x_test_noisy[30],cmap=plt.cm.binary)\n",
    "plt.show()"
   ]
  },
  {
   "cell_type": "code",
   "execution_count": 18,
   "metadata": {},
   "outputs": [],
   "source": [
    "# -- CONVERTING DATA FOR INPUT INTO NEURAL NETWORK -- #\n",
    "x_train = x_train.reshape((60000,28*28))\n",
    "x_train = x_train.astype(\"float32\") / 255\n",
    "\n",
    "x_test = x_test.reshape((10000,28*28))\n",
    "x_test_noisy = x_test_noisy.reshape((10000,28*28))\n",
    "\n",
    "y_train = to_categorical(y_train)\n",
    "y_test = to_categorical(y_test)"
   ]
  },
  {
   "cell_type": "code",
   "execution_count": 19,
   "metadata": {},
   "outputs": [
    {
     "name": "stderr",
     "output_type": "stream",
     "text": [
      "C:\\Users\\Carl\\.conda\\envs\\tf\\lib\\site-packages\\sklearn\\decomposition\\_fastica.py:120: ConvergenceWarning: FastICA did not converge. Consider increasing tolerance or the maximum number of iterations.\n",
      "  ConvergenceWarning)\n"
     ]
    }
   ],
   "source": [
    "# -- DIMENSIONALITY REDUCTION -- #\n",
    "import dim_reduction\n",
    "x_train0, x_test_noisy0 = x_train.copy(), x_test_noisy.copy()\n",
    "x_train1, x_test_noisy1 = dim_reduction.apply(30, x_train, x_test_noisy, \"PCA\")\n",
    "x_train2, x_test_noisy2 = dim_reduction.apply(30, x_train, x_test_noisy, \"FA\")"
   ]
  },
  {
   "cell_type": "code",
   "execution_count": 20,
   "metadata": {},
   "outputs": [
    {
     "name": "stdout",
     "output_type": "stream",
     "text": [
      "Train on 60000 samples, validate on 10000 samples\n",
      "Epoch 1/30\n",
      "60000/60000 [==============================] - 1s 11us/step - loss: 1.6177 - accuracy: 0.5932 - val_loss: 1.4824 - val_accuracy: 0.6804\n",
      "Epoch 2/30\n",
      "60000/60000 [==============================] - 1s 9us/step - loss: 0.8060 - accuracy: 0.8284 - val_loss: 0.9784 - val_accuracy: 0.7984\n",
      "Epoch 3/30\n",
      "60000/60000 [==============================] - 1s 9us/step - loss: 0.5208 - accuracy: 0.8738 - val_loss: 0.7606 - val_accuracy: 0.8331\n",
      "Epoch 4/30\n",
      "60000/60000 [==============================] - 1s 9us/step - loss: 0.4133 - accuracy: 0.8931 - val_loss: 0.6557 - val_accuracy: 0.8482\n",
      "Epoch 5/30\n",
      "60000/60000 [==============================] - 1s 10us/step - loss: 0.3599 - accuracy: 0.9034 - val_loss: 0.6017 - val_accuracy: 0.8567\n",
      "Epoch 6/30\n",
      "60000/60000 [==============================] - 1s 9us/step - loss: 0.3275 - accuracy: 0.9112 - val_loss: 0.5630 - val_accuracy: 0.8635\n",
      "Epoch 7/30\n",
      "60000/60000 [==============================] - 1s 9us/step - loss: 0.3053 - accuracy: 0.9167 - val_loss: 0.5384 - val_accuracy: 0.8648\n",
      "Epoch 8/30\n",
      "60000/60000 [==============================] - 1s 9us/step - loss: 0.2880 - accuracy: 0.9209 - val_loss: 0.5180 - val_accuracy: 0.8682\n",
      "Epoch 9/30\n",
      "60000/60000 [==============================] - 1s 9us/step - loss: 0.2740 - accuracy: 0.9244 - val_loss: 0.5024 - val_accuracy: 0.8719\n",
      "Epoch 10/30\n",
      "60000/60000 [==============================] - 1s 9us/step - loss: 0.2618 - accuracy: 0.9277 - val_loss: 0.4911 - val_accuracy: 0.8726\n",
      "Epoch 11/30\n",
      "60000/60000 [==============================] - 1s 10us/step - loss: 0.2509 - accuracy: 0.9306 - val_loss: 0.4837 - val_accuracy: 0.8733\n",
      "Epoch 12/30\n",
      "60000/60000 [==============================] - 1s 9us/step - loss: 0.2412 - accuracy: 0.9329 - val_loss: 0.4652 - val_accuracy: 0.8791\n",
      "Epoch 13/30\n",
      "60000/60000 [==============================] - 1s 10us/step - loss: 0.2324 - accuracy: 0.9361 - val_loss: 0.4642 - val_accuracy: 0.8764\n",
      "Epoch 14/30\n",
      "60000/60000 [==============================] - 1s 10us/step - loss: 0.2242 - accuracy: 0.9384 - val_loss: 0.4560 - val_accuracy: 0.8778\n",
      "Epoch 15/30\n",
      "60000/60000 [==============================] - 1s 9us/step - loss: 0.2167 - accuracy: 0.9406 - val_loss: 0.4485 - val_accuracy: 0.8814\n",
      "Epoch 16/30\n",
      "60000/60000 [==============================] - 1s 9us/step - loss: 0.2094 - accuracy: 0.9421 - val_loss: 0.4400 - val_accuracy: 0.8831\n",
      "Epoch 17/30\n",
      "60000/60000 [==============================] - 1s 10us/step - loss: 0.2029 - accuracy: 0.9439 - val_loss: 0.4302 - val_accuracy: 0.8852\n",
      "Epoch 18/30\n",
      "60000/60000 [==============================] - 1s 11us/step - loss: 0.1967 - accuracy: 0.9454 - val_loss: 0.4259 - val_accuracy: 0.8872\n",
      "Epoch 19/30\n",
      "60000/60000 [==============================] - 1s 11us/step - loss: 0.1908 - accuracy: 0.9474 - val_loss: 0.4218 - val_accuracy: 0.8868\n",
      "Epoch 20/30\n",
      "60000/60000 [==============================] - 1s 11us/step - loss: 0.1854 - accuracy: 0.9483 - val_loss: 0.4136 - val_accuracy: 0.8897\n",
      "Epoch 21/30\n",
      "60000/60000 [==============================] - 1s 11us/step - loss: 0.1801 - accuracy: 0.9503 - val_loss: 0.4101 - val_accuracy: 0.8897\n",
      "Epoch 22/30\n",
      "60000/60000 [==============================] - 1s 11us/step - loss: 0.1751 - accuracy: 0.9514 - val_loss: 0.4049 - val_accuracy: 0.8923\n",
      "Epoch 23/30\n",
      "60000/60000 [==============================] - 1s 11us/step - loss: 0.1706 - accuracy: 0.9523 - val_loss: 0.4027 - val_accuracy: 0.8897\n",
      "Epoch 24/30\n",
      "60000/60000 [==============================] - 1s 11us/step - loss: 0.1661 - accuracy: 0.9532 - val_loss: 0.3939 - val_accuracy: 0.8923\n",
      "Epoch 25/30\n",
      "60000/60000 [==============================] - 1s 11us/step - loss: 0.1620 - accuracy: 0.9545 - val_loss: 0.3875 - val_accuracy: 0.8938\n",
      "Epoch 26/30\n",
      "60000/60000 [==============================] - 1s 10us/step - loss: 0.1581 - accuracy: 0.9558 - val_loss: 0.3894 - val_accuracy: 0.8916\n",
      "Epoch 27/30\n",
      "60000/60000 [==============================] - 1s 10us/step - loss: 0.1542 - accuracy: 0.9568 - val_loss: 0.3840 - val_accuracy: 0.8929\n",
      "Epoch 28/30\n",
      "60000/60000 [==============================] - 1s 11us/step - loss: 0.1507 - accuracy: 0.9580 - val_loss: 0.3840 - val_accuracy: 0.8934\n",
      "Epoch 29/30\n",
      "60000/60000 [==============================] - 1s 11us/step - loss: 0.1471 - accuracy: 0.9589 - val_loss: 0.3769 - val_accuracy: 0.8944\n",
      "Epoch 30/30\n",
      "60000/60000 [==============================] - 1s 11us/step - loss: 0.1439 - accuracy: 0.9598 - val_loss: 0.3712 - val_accuracy: 0.8964\n",
      "Train on 60000 samples, validate on 10000 samples\n",
      "Epoch 1/30\n",
      "60000/60000 [==============================] - 0s 4us/step - loss: 3.2149 - accuracy: 0.1539 - val_loss: 2.3403 - val_accuracy: 0.3014\n",
      "Epoch 2/30\n",
      "60000/60000 [==============================] - 0s 3us/step - loss: 1.8473 - accuracy: 0.4539 - val_loss: 1.6159 - val_accuracy: 0.5113\n",
      "Epoch 3/30\n",
      "60000/60000 [==============================] - 0s 3us/step - loss: 1.0703 - accuracy: 0.6890 - val_loss: 1.1706 - val_accuracy: 0.6652\n",
      "Epoch 4/30\n",
      "60000/60000 [==============================] - 0s 3us/step - loss: 0.6986 - accuracy: 0.8083 - val_loss: 0.9111 - val_accuracy: 0.7475\n",
      "Epoch 5/30\n",
      "60000/60000 [==============================] - 0s 3us/step - loss: 0.5316 - accuracy: 0.8525 - val_loss: 0.7641 - val_accuracy: 0.7900\n",
      "Epoch 6/30\n",
      "60000/60000 [==============================] - 0s 3us/step - loss: 0.4453 - accuracy: 0.8734 - val_loss: 0.6731 - val_accuracy: 0.8155\n",
      "Epoch 7/30\n",
      "60000/60000 [==============================] - 0s 4us/step - loss: 0.3934 - accuracy: 0.8869 - val_loss: 0.6162 - val_accuracy: 0.8302\n",
      "Epoch 8/30\n",
      "60000/60000 [==============================] - 0s 3us/step - loss: 0.3590 - accuracy: 0.8963 - val_loss: 0.5735 - val_accuracy: 0.8421\n",
      "Epoch 9/30\n",
      "60000/60000 [==============================] - 0s 4us/step - loss: 0.3339 - accuracy: 0.9029 - val_loss: 0.5417 - val_accuracy: 0.8503\n",
      "Epoch 10/30\n",
      "60000/60000 [==============================] - 0s 4us/step - loss: 0.3146 - accuracy: 0.9082 - val_loss: 0.5188 - val_accuracy: 0.8549\n",
      "Epoch 11/30\n",
      "60000/60000 [==============================] - 0s 4us/step - loss: 0.2988 - accuracy: 0.9128 - val_loss: 0.4997 - val_accuracy: 0.8613\n",
      "Epoch 12/30\n",
      "60000/60000 [==============================] - 0s 4us/step - loss: 0.2855 - accuracy: 0.9167 - val_loss: 0.4825 - val_accuracy: 0.8685\n",
      "Epoch 13/30\n",
      "60000/60000 [==============================] - 0s 4us/step - loss: 0.2743 - accuracy: 0.9194 - val_loss: 0.4724 - val_accuracy: 0.8700\n",
      "Epoch 14/30\n",
      "60000/60000 [==============================] - 0s 4us/step - loss: 0.2644 - accuracy: 0.9225 - val_loss: 0.4583 - val_accuracy: 0.8747\n",
      "Epoch 15/30\n",
      "60000/60000 [==============================] - 0s 4us/step - loss: 0.2557 - accuracy: 0.9245 - val_loss: 0.4502 - val_accuracy: 0.8748\n",
      "Epoch 16/30\n",
      "60000/60000 [==============================] - 0s 4us/step - loss: 0.2478 - accuracy: 0.9266 - val_loss: 0.4415 - val_accuracy: 0.8769\n",
      "Epoch 17/30\n",
      "60000/60000 [==============================] - 0s 4us/step - loss: 0.2406 - accuracy: 0.9290 - val_loss: 0.4356 - val_accuracy: 0.8775\n",
      "Epoch 18/30\n",
      "60000/60000 [==============================] - 0s 4us/step - loss: 0.2340 - accuracy: 0.9306 - val_loss: 0.4260 - val_accuracy: 0.8805\n",
      "Epoch 19/30\n",
      "60000/60000 [==============================] - 0s 4us/step - loss: 0.2279 - accuracy: 0.9323 - val_loss: 0.4202 - val_accuracy: 0.8818\n",
      "Epoch 20/30\n",
      "60000/60000 [==============================] - 0s 4us/step - loss: 0.2223 - accuracy: 0.9338 - val_loss: 0.4116 - val_accuracy: 0.8843\n",
      "Epoch 21/30\n",
      "60000/60000 [==============================] - 0s 4us/step - loss: 0.2172 - accuracy: 0.9349 - val_loss: 0.4080 - val_accuracy: 0.8856\n",
      "Epoch 22/30\n",
      "60000/60000 [==============================] - 0s 4us/step - loss: 0.2122 - accuracy: 0.9366 - val_loss: 0.4023 - val_accuracy: 0.8871\n",
      "Epoch 23/30\n",
      "60000/60000 [==============================] - 0s 4us/step - loss: 0.2076 - accuracy: 0.9378 - val_loss: 0.3970 - val_accuracy: 0.8887\n",
      "Epoch 24/30\n",
      "60000/60000 [==============================] - 0s 4us/step - loss: 0.2034 - accuracy: 0.9393 - val_loss: 0.3916 - val_accuracy: 0.8904\n",
      "Epoch 25/30\n",
      "60000/60000 [==============================] - 0s 4us/step - loss: 0.1993 - accuracy: 0.9404 - val_loss: 0.3895 - val_accuracy: 0.8901\n",
      "Epoch 26/30\n"
     ]
    },
    {
     "name": "stdout",
     "output_type": "stream",
     "text": [
      "60000/60000 [==============================] - 0s 4us/step - loss: 0.1954 - accuracy: 0.9416 - val_loss: 0.3851 - val_accuracy: 0.8915\n",
      "Epoch 27/30\n",
      "60000/60000 [==============================] - 0s 4us/step - loss: 0.1918 - accuracy: 0.9424 - val_loss: 0.3803 - val_accuracy: 0.8935\n",
      "Epoch 28/30\n",
      "60000/60000 [==============================] - 0s 3us/step - loss: 0.1884 - accuracy: 0.9434 - val_loss: 0.3769 - val_accuracy: 0.8955\n",
      "Epoch 29/30\n",
      "60000/60000 [==============================] - 0s 3us/step - loss: 0.1850 - accuracy: 0.9442 - val_loss: 0.3721 - val_accuracy: 0.8969\n",
      "Epoch 30/30\n",
      "60000/60000 [==============================] - 0s 4us/step - loss: 0.1819 - accuracy: 0.9454 - val_loss: 0.3696 - val_accuracy: 0.8971\n",
      "Train on 60000 samples, validate on 10000 samples\n",
      "Epoch 1/30\n",
      "60000/60000 [==============================] - 0s 5us/step - loss: 2.1874 - accuracy: 0.2087 - val_loss: 2.1087 - val_accuracy: 0.3023\n",
      "Epoch 2/30\n",
      "60000/60000 [==============================] - 0s 4us/step - loss: 1.8263 - accuracy: 0.4805 - val_loss: 1.8943 - val_accuracy: 0.5056\n",
      "Epoch 3/30\n",
      "60000/60000 [==============================] - 0s 4us/step - loss: 1.5198 - accuracy: 0.6827 - val_loss: 1.6934 - val_accuracy: 0.6494\n",
      "Epoch 4/30\n",
      "60000/60000 [==============================] - 0s 4us/step - loss: 1.2577 - accuracy: 0.7793 - val_loss: 1.5047 - val_accuracy: 0.7263\n",
      "Epoch 5/30\n",
      "60000/60000 [==============================] - 0s 4us/step - loss: 1.0388 - accuracy: 0.8224 - val_loss: 1.3318 - val_accuracy: 0.7678\n",
      "Epoch 6/30\n",
      "60000/60000 [==============================] - 0s 4us/step - loss: 0.8618 - accuracy: 0.8453 - val_loss: 1.1779 - val_accuracy: 0.7910\n",
      "Epoch 7/30\n",
      "60000/60000 [==============================] - 0s 4us/step - loss: 0.7229 - accuracy: 0.8599 - val_loss: 1.0447 - val_accuracy: 0.8063\n",
      "Epoch 8/30\n",
      "60000/60000 [==============================] - 0s 4us/step - loss: 0.6169 - accuracy: 0.8716 - val_loss: 0.9342 - val_accuracy: 0.8141\n",
      "Epoch 9/30\n",
      "60000/60000 [==============================] - 0s 4us/step - loss: 0.5371 - accuracy: 0.8806 - val_loss: 0.8436 - val_accuracy: 0.8229\n",
      "Epoch 10/30\n",
      "60000/60000 [==============================] - 0s 4us/step - loss: 0.4769 - accuracy: 0.8879 - val_loss: 0.7723 - val_accuracy: 0.8285\n",
      "Epoch 11/30\n",
      "60000/60000 [==============================] - 0s 4us/step - loss: 0.4315 - accuracy: 0.8937 - val_loss: 0.7145 - val_accuracy: 0.8352\n",
      "Epoch 12/30\n",
      "60000/60000 [==============================] - ETA: 0s - loss: 0.3974 - accuracy: 0.89 - 0s 4us/step - loss: 0.3967 - accuracy: 0.8989 - val_loss: 0.6694 - val_accuracy: 0.8392\n",
      "Epoch 13/30\n",
      "60000/60000 [==============================] - 0s 4us/step - loss: 0.3696 - accuracy: 0.9025 - val_loss: 0.6317 - val_accuracy: 0.8447\n",
      "Epoch 14/30\n",
      "60000/60000 [==============================] - 0s 4us/step - loss: 0.3481 - accuracy: 0.9058 - val_loss: 0.6029 - val_accuracy: 0.8473\n",
      "Epoch 15/30\n",
      "60000/60000 [==============================] - 0s 4us/step - loss: 0.3305 - accuracy: 0.9094 - val_loss: 0.5785 - val_accuracy: 0.8507\n",
      "Epoch 16/30\n",
      "60000/60000 [==============================] - 0s 4us/step - loss: 0.3158 - accuracy: 0.9122 - val_loss: 0.5581 - val_accuracy: 0.8535\n",
      "Epoch 17/30\n",
      "60000/60000 [==============================] - 0s 3us/step - loss: 0.3035 - accuracy: 0.9145 - val_loss: 0.5396 - val_accuracy: 0.8572\n",
      "Epoch 18/30\n",
      "60000/60000 [==============================] - 0s 3us/step - loss: 0.2928 - accuracy: 0.9170 - val_loss: 0.5253 - val_accuracy: 0.8595\n",
      "Epoch 19/30\n",
      "60000/60000 [==============================] - 0s 3us/step - loss: 0.2834 - accuracy: 0.9190 - val_loss: 0.5114 - val_accuracy: 0.8628\n",
      "Epoch 20/30\n",
      "60000/60000 [==============================] - 0s 3us/step - loss: 0.2750 - accuracy: 0.9212 - val_loss: 0.5016 - val_accuracy: 0.8643\n",
      "Epoch 21/30\n",
      "60000/60000 [==============================] - 0s 3us/step - loss: 0.2674 - accuracy: 0.9230 - val_loss: 0.4905 - val_accuracy: 0.8666\n",
      "Epoch 22/30\n",
      "60000/60000 [==============================] - 0s 3us/step - loss: 0.2606 - accuracy: 0.9248 - val_loss: 0.4809 - val_accuracy: 0.8691\n",
      "Epoch 23/30\n",
      "60000/60000 [==============================] - 0s 3us/step - loss: 0.2544 - accuracy: 0.9263 - val_loss: 0.4738 - val_accuracy: 0.8696\n",
      "Epoch 24/30\n",
      "60000/60000 [==============================] - 0s 3us/step - loss: 0.2486 - accuracy: 0.9280 - val_loss: 0.4661 - val_accuracy: 0.8715\n",
      "Epoch 25/30\n",
      "60000/60000 [==============================] - 0s 3us/step - loss: 0.2432 - accuracy: 0.9294 - val_loss: 0.4582 - val_accuracy: 0.8737\n",
      "Epoch 26/30\n",
      "60000/60000 [==============================] - 0s 3us/step - loss: 0.2381 - accuracy: 0.9309 - val_loss: 0.4523 - val_accuracy: 0.8743\n",
      "Epoch 27/30\n",
      "60000/60000 [==============================] - 0s 3us/step - loss: 0.2334 - accuracy: 0.9323 - val_loss: 0.4463 - val_accuracy: 0.8770\n",
      "Epoch 28/30\n",
      "60000/60000 [==============================] - 0s 3us/step - loss: 0.2290 - accuracy: 0.9338 - val_loss: 0.4404 - val_accuracy: 0.8770\n",
      "Epoch 29/30\n",
      "60000/60000 [==============================] - 0s 3us/step - loss: 0.2247 - accuracy: 0.9348 - val_loss: 0.4358 - val_accuracy: 0.8780\n",
      "Epoch 30/30\n",
      "60000/60000 [==============================] - 0s 3us/step - loss: 0.2207 - accuracy: 0.9363 - val_loss: 0.4306 - val_accuracy: 0.8793\n",
      "Train on 60000 samples, validate on 10000 samples\n",
      "Epoch 1/30\n",
      "60000/60000 [==============================] - 0s 4us/step - loss: 2.3002 - accuracy: 0.1671 - val_loss: 2.2998 - val_accuracy: 0.1174\n",
      "Epoch 2/30\n",
      "60000/60000 [==============================] - 0s 3us/step - loss: 2.2976 - accuracy: 0.1170 - val_loss: 2.2980 - val_accuracy: 0.1136\n",
      "Epoch 3/30\n",
      "60000/60000 [==============================] - 0s 3us/step - loss: 2.2952 - accuracy: 0.1132 - val_loss: 2.2962 - val_accuracy: 0.1135\n",
      "Epoch 4/30\n",
      "60000/60000 [==============================] - 0s 3us/step - loss: 2.2926 - accuracy: 0.1130 - val_loss: 2.2945 - val_accuracy: 0.1135\n",
      "Epoch 5/30\n",
      "60000/60000 [==============================] - 0s 3us/step - loss: 2.2899 - accuracy: 0.1133 - val_loss: 2.2925 - val_accuracy: 0.1135\n",
      "Epoch 6/30\n",
      "60000/60000 [==============================] - 0s 3us/step - loss: 2.2870 - accuracy: 0.1134 - val_loss: 2.2904 - val_accuracy: 0.1137\n",
      "Epoch 7/30\n",
      "60000/60000 [==============================] - 0s 3us/step - loss: 2.2838 - accuracy: 0.1144 - val_loss: 2.2882 - val_accuracy: 0.1138\n",
      "Epoch 8/30\n",
      "60000/60000 [==============================] - 0s 3us/step - loss: 2.2804 - accuracy: 0.1182 - val_loss: 2.2858 - val_accuracy: 0.1138\n",
      "Epoch 9/30\n",
      "60000/60000 [==============================] - 0s 3us/step - loss: 2.2767 - accuracy: 0.1220 - val_loss: 2.2832 - val_accuracy: 0.1146\n",
      "Epoch 10/30\n",
      "60000/60000 [==============================] - 0s 3us/step - loss: 2.2727 - accuracy: 0.1310 - val_loss: 2.2804 - val_accuracy: 0.1156\n",
      "Epoch 11/30\n",
      "60000/60000 [==============================] - 0s 3us/step - loss: 2.2685 - accuracy: 0.1375 - val_loss: 2.2775 - val_accuracy: 0.1173\n",
      "Epoch 12/30\n",
      "60000/60000 [==============================] - 0s 3us/step - loss: 2.2639 - accuracy: 0.1579 - val_loss: 2.2743 - val_accuracy: 0.1240\n",
      "Epoch 13/30\n",
      "60000/60000 [==============================] - 0s 3us/step - loss: 2.2591 - accuracy: 0.1803 - val_loss: 2.2710 - val_accuracy: 0.1328\n",
      "Epoch 14/30\n",
      "60000/60000 [==============================] - 0s 3us/step - loss: 2.2539 - accuracy: 0.2057 - val_loss: 2.2673 - val_accuracy: 0.1492\n",
      "Epoch 15/30\n",
      "60000/60000 [==============================] - 0s 3us/step - loss: 2.2484 - accuracy: 0.2314 - val_loss: 2.2635 - val_accuracy: 0.1591\n",
      "Epoch 16/30\n",
      "60000/60000 [==============================] - 0s 3us/step - loss: 2.2426 - accuracy: 0.2663 - val_loss: 2.2595 - val_accuracy: 0.1741\n",
      "Epoch 17/30\n",
      "60000/60000 [==============================] - 0s 3us/step - loss: 2.2365 - accuracy: 0.3077 - val_loss: 2.2552 - val_accuracy: 0.1785\n",
      "Epoch 18/30\n",
      "60000/60000 [==============================] - 0s 3us/step - loss: 2.2300 - accuracy: 0.3208 - val_loss: 2.2508 - val_accuracy: 0.2025\n",
      "Epoch 19/30\n",
      "60000/60000 [==============================] - 0s 3us/step - loss: 2.2233 - accuracy: 0.3668 - val_loss: 2.2461 - val_accuracy: 0.2092\n",
      "Epoch 20/30\n",
      "60000/60000 [==============================] - 0s 3us/step - loss: 2.2162 - accuracy: 0.3882 - val_loss: 2.2412 - val_accuracy: 0.2384\n"
     ]
    },
    {
     "name": "stdout",
     "output_type": "stream",
     "text": [
      "Epoch 21/30\n",
      "60000/60000 [==============================] - 0s 3us/step - loss: 2.2088 - accuracy: 0.4117 - val_loss: 2.2360 - val_accuracy: 0.2702\n",
      "Epoch 22/30\n",
      "60000/60000 [==============================] - 0s 3us/step - loss: 2.2010 - accuracy: 0.4689 - val_loss: 2.2306 - val_accuracy: 0.2821\n",
      "Epoch 23/30\n",
      "60000/60000 [==============================] - 0s 3us/step - loss: 2.1930 - accuracy: 0.4845 - val_loss: 2.2251 - val_accuracy: 0.3076\n",
      "Epoch 24/30\n",
      "60000/60000 [==============================] - 0s 4us/step - loss: 2.1846 - accuracy: 0.5220 - val_loss: 2.2192 - val_accuracy: 0.3116\n",
      "Epoch 25/30\n",
      "60000/60000 [==============================] - 0s 4us/step - loss: 2.1759 - accuracy: 0.5316 - val_loss: 2.2132 - val_accuracy: 0.3549\n",
      "Epoch 26/30\n",
      "60000/60000 [==============================] - 0s 4us/step - loss: 2.1668 - accuracy: 0.5734 - val_loss: 2.2069 - val_accuracy: 0.3394\n",
      "Epoch 27/30\n",
      "60000/60000 [==============================] - 0s 4us/step - loss: 2.1576 - accuracy: 0.5633 - val_loss: 2.2005 - val_accuracy: 0.3923\n",
      "Epoch 28/30\n",
      "60000/60000 [==============================] - 0s 3us/step - loss: 2.1479 - accuracy: 0.6049 - val_loss: 2.1938 - val_accuracy: 0.4104\n",
      "Epoch 29/30\n",
      "60000/60000 [==============================] - 0s 3us/step - loss: 2.1380 - accuracy: 0.6186 - val_loss: 2.1869 - val_accuracy: 0.4429\n",
      "Epoch 30/30\n",
      "60000/60000 [==============================] - 0s 3us/step - loss: 2.1277 - accuracy: 0.6375 - val_loss: 2.1799 - val_accuracy: 0.4737\n"
     ]
    }
   ],
   "source": [
    "# -- NEURAL NETWORK -- #\n",
    "import neural_network\n",
    "history0 = neural_network.fit(784, 30, x_train0, y_train, x_test_noisy0, y_test)\n",
    "history1 = neural_network.fit(30, 30, x_train1, y_train, x_test_noisy1, y_test)\n",
    "history2 = neural_network.fit(30, 30, x_train2, y_train, x_test_noisy2, y_test)"
   ]
  },
  {
   "cell_type": "code",
   "execution_count": 21,
   "metadata": {},
   "outputs": [
    {
     "data": {
      "image/png": "[encoded data removed]",
      "text/plain": [
       "<Figure size 432x288 with 1 Axes>"
      ]
     },
     "metadata": {
      "needs_background": "light"
     },
     "output_type": "display_data"
    }
   ],
   "source": [
    "# -- OUTPUT PLOTS -- #\n",
    "plt.plot(history0.history[\"val_accuracy\"])\n",
    "plt.plot(history1.history[\"val_accuracy\"])\n",
    "plt.plot(history2.history[\"val_accuracy\"])\n",
    "plt.plot(history3.history[\"val_accuracy\"])\n",
    "plt.title(\"Model Accuracy (Gaussain)\")\n",
    "plt.ylabel(\"Accuracy\")\n",
    "plt.xlabel(\"Epoch\")\n",
    "plt.legend([\"None\", \"PCA\", \"FA\"],loc=\"lower right\")\n",
    "plt.show()"
   ]
  }
 ],
 "metadata": {
  "kernelspec": {
   "display_name": "tf",
   "language": "python",
   "name": "tf"
  },
  "language_info": {
   "codemirror_mode": {
    "name": "ipython",
    "version": 3
   },
   "file_extension": ".py",
   "mimetype": "text/x-python",
   "name": "python",
   "nbconvert_exporter": "python",
   "pygments_lexer": "ipython3",
   "version": "3.7.9"
  }
 },
 "nbformat": 4,
 "nbformat_minor": 4
}
