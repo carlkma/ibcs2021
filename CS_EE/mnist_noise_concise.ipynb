{
 "cells": [
  {
   "cell_type": "code",
   "execution_count": 1,
   "metadata": {},
   "outputs": [
    {
     "name": "stderr",
     "output_type": "stream",
     "text": [
      "Using TensorFlow backend.\n"
     ]
    }
   ],
   "source": [
    "# -- IMPORTS -- #\n",
    "import math\n",
    "import scipy\n",
    "import numpy as np\n",
    "from skimage import util\n",
    "import matplotlib.pyplot as plt\n",
    "from keras.datasets import mnist\n",
    "from keras.utils import to_categorical"
   ]
  },
  {
   "cell_type": "code",
   "execution_count": 2,
   "metadata": {},
   "outputs": [],
   "source": [
    "# -- TRAIN AND TEST DATA PREPARATION -- #\n",
    "(x_train, y_train), (x_test, y_test) = mnist.load_data()\n",
    "x_test_noisy = np.empty((len(x_test),28,28),dtype=\"float64\")\n",
    "\n",
    "std = 0.005\n",
    "for i in range(len(x_test)):\n",
    "    x_test_noisy[i] = util.random_noise(x_test[i],mode=\"gaussian\",var=std**2)"
   ]
  },
  {
   "cell_type": "code",
   "execution_count": 3,
   "metadata": {},
   "outputs": [
    {
     "name": "stdout",
     "output_type": "stream",
     "text": [
      "38.034187905770814\n"
     ]
    },
    {
     "data": {
      "image/png": "[encoded data removed]",
      "text/plain": [
       "<Figure size 432x288 with 1 Axes>"
      ]
     },
     "metadata": {
      "needs_background": "light"
     },
     "output_type": "display_data"
    }
   ],
   "source": [
    "# -- OUTPUT SNR AND SAMPLE NOISY IMAGE -- #\n",
    "p_signal = np.mean(x_test[30])\n",
    "p_noise = std\n",
    "snr = 10 * math.log(p_signal/p_noise,10)\n",
    "print(snr)\n",
    "\n",
    "plt.imshow(x_test_noisy[30],cmap=plt.cm.binary)\n",
    "plt.show()"
   ]
  },
  {
   "cell_type": "code",
   "execution_count": 4,
   "metadata": {},
   "outputs": [],
   "source": [
    "# -- CONVERTING DATA FOR INPUT INTO NEURAL NETWORK -- #\n",
    "x_train = x_train.reshape((60000,28*28))\n",
    "x_train = x_train.astype(\"float32\") / 255\n",
    "\n",
    "x_test = x_test.reshape((10000,28*28))\n",
    "x_test_noisy = x_test_noisy.reshape((10000,28*28))\n",
    "\n",
    "y_train = to_categorical(y_train)\n",
    "y_test = to_categorical(y_test)"
   ]
  },
  {
   "cell_type": "code",
   "execution_count": null,
   "metadata": {},
   "outputs": [],
   "source": [
    "# -- DIMENSIONALITY REDUCTION -- #\n",
    "import dim_reduction\n",
    "x_train, x_test_noisy = dim_reduction.apply(30, x_train, x_test_noisy, \"asdf\")"
   ]
  },
  {
   "cell_type": "code",
   "execution_count": null,
   "metadata": {},
   "outputs": [],
   "source": [
    "# -- NEURAL NETWORK -- #\n",
    "import neural_network\n",
    "history = neural_network.fit(30, 30, x_train, y_train, x_test_noisy, y_test)"
   ]
  },
  {
   "cell_type": "code",
   "execution_count": null,
   "metadata": {},
   "outputs": [],
   "source": [
    "# -- OUTPUT PLOTS -- #\n",
    "plt.plot(history.history[\"val_accuracy\"])\n",
    "plt.title(\"Model Accuracy (Gaussain)\")\n",
    "plt.ylabel(\"Accuracy\")\n",
    "plt.xlabel(\"Epoch\")\n",
    "plt.legend([\"a\"],loc=\"lower right\")\n",
    "plt.show()"
   ]
  }
 ],
 "metadata": {
  "kernelspec": {
   "display_name": "tf",
   "language": "python",
   "name": "tf"
  },
  "language_info": {
   "codemirror_mode": {
    "name": "ipython",
    "version": 3
   },
   "file_extension": ".py",
   "mimetype": "text/x-python",
   "name": "python",
   "nbconvert_exporter": "python",
   "pygments_lexer": "ipython3",
   "version": "3.7.9"
  }
 },
 "nbformat": 4,
 "nbformat_minor": 4
}
