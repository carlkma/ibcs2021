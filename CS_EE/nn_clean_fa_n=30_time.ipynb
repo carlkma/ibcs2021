{
 "cells": [
  {
   "cell_type": "code",
   "execution_count": 1,
   "metadata": {},
   "outputs": [],
   "source": [
    "# STATE: DONE & ARCHIVED\n",
    "\n",
    "# VARIABLE: NONE\n",
    "# CONSTANT: METHOD OF DR (FA, n=30)\n",
    "# NOISE: NO NOISE\n",
    "# OUTPUT: TIME AND SPACE NEEDED"
   ]
  },
  {
   "cell_type": "code",
   "execution_count": 2,
   "metadata": {},
   "outputs": [
    {
     "name": "stderr",
     "output_type": "stream",
     "text": [
      "Using TensorFlow backend.\n"
     ]
    }
   ],
   "source": [
    "# -- IMPORTS -- #\n",
    "import math\n",
    "import scipy\n",
    "import numpy as np\n",
    "from skimage import util\n",
    "import matplotlib.pyplot as plt\n",
    "from keras.datasets import mnist\n",
    "from keras.utils import to_categorical\n",
    "import time\n",
    "import os\n",
    "import psutil"
   ]
  },
  {
   "cell_type": "code",
   "execution_count": 3,
   "metadata": {},
   "outputs": [],
   "source": [
    "# -- TRAIN AND TEST DATA PREPARATION -- #\n",
    "(x_train, y_train), (x_test, y_test) = mnist.load_data()"
   ]
  },
  {
   "cell_type": "code",
   "execution_count": 4,
   "metadata": {},
   "outputs": [],
   "source": [
    "# -- CONVERTING DATA FOR INPUT INTO NEURAL NETWORK -- #\n",
    "x_train = x_train.reshape((60000,28*28))\n",
    "x_train = x_train.astype(\"float32\") / 255\n",
    "\n",
    "x_test = x_test.reshape((10000,28*28))\n",
    "x_test = x_test.astype(\"float32\") / 255\n",
    "\n",
    "y_train = to_categorical(y_train)\n",
    "y_test = to_categorical(y_test)"
   ]
  },
  {
   "cell_type": "code",
   "execution_count": 5,
   "metadata": {},
   "outputs": [],
   "source": [
    "# -- DIMENSIONALITY REDUCTION -- #\n",
    "start = time.time()\n",
    "import dim_reduction\n",
    "x_train0, x_test0 = dim_reduction.apply(30, x_train, x_test, \"FA\")"
   ]
  },
  {
   "cell_type": "code",
   "execution_count": 6,
   "metadata": {},
   "outputs": [
    {
     "name": "stdout",
     "output_type": "stream",
     "text": [
      "Train on 60000 samples, validate on 10000 samples\n",
      "Epoch 1/30\n",
      "60000/60000 [==============================] - 0s 4us/step - loss: 2.3214 - accuracy: 0.1659 - val_loss: 2.1188 - val_accuracy: 0.2414\n",
      "Epoch 2/30\n",
      "60000/60000 [==============================] - 0s 3us/step - loss: 1.9543 - accuracy: 0.3738 - val_loss: 1.7765 - val_accuracy: 0.5186\n",
      "Epoch 3/30\n",
      "60000/60000 [==============================] - 0s 3us/step - loss: 1.6379 - accuracy: 0.6071 - val_loss: 1.4766 - val_accuracy: 0.6955\n",
      "Epoch 4/30\n",
      "60000/60000 [==============================] - 0s 3us/step - loss: 1.3618 - accuracy: 0.7367 - val_loss: 1.2178 - val_accuracy: 0.7850\n",
      "Epoch 5/30\n",
      "60000/60000 [==============================] - 0s 3us/step - loss: 1.1270 - accuracy: 0.8016 - val_loss: 1.0017 - val_accuracy: 0.8293\n",
      "Epoch 6/30\n",
      "60000/60000 [==============================] - 0s 3us/step - loss: 0.9326 - accuracy: 0.8351 - val_loss: 0.8273 - val_accuracy: 0.8558\n",
      "Epoch 7/30\n",
      "60000/60000 [==============================] - 0s 3us/step - loss: 0.7785 - accuracy: 0.8549 - val_loss: 0.6915 - val_accuracy: 0.8703\n",
      "Epoch 8/30\n",
      "60000/60000 [==============================] - 0s 3us/step - loss: 0.6587 - accuracy: 0.8679 - val_loss: 0.5882 - val_accuracy: 0.8796\n",
      "Epoch 9/30\n",
      "60000/60000 [==============================] - 0s 3us/step - loss: 0.5681 - accuracy: 0.8775 - val_loss: 0.5112 - val_accuracy: 0.8859\n",
      "Epoch 10/30\n",
      "60000/60000 [==============================] - 0s 3us/step - loss: 0.5006 - accuracy: 0.8849 - val_loss: 0.4544 - val_accuracy: 0.8917\n",
      "Epoch 11/30\n",
      "60000/60000 [==============================] - 0s 3us/step - loss: 0.4500 - accuracy: 0.8911 - val_loss: 0.4120 - val_accuracy: 0.8979\n",
      "Epoch 12/30\n",
      "60000/60000 [==============================] - 0s 3us/step - loss: 0.4117 - accuracy: 0.8963 - val_loss: 0.3801 - val_accuracy: 0.9024\n",
      "Epoch 13/30\n",
      "60000/60000 [==============================] - 0s 3us/step - loss: 0.3823 - accuracy: 0.9004 - val_loss: 0.3554 - val_accuracy: 0.9058\n",
      "Epoch 14/30\n",
      "60000/60000 [==============================] - ETA: 0s - loss: 0.3604 - accuracy: 0.90 - 0s 3us/step - loss: 0.3591 - accuracy: 0.9035 - val_loss: 0.3362 - val_accuracy: 0.9095\n",
      "Epoch 15/30\n",
      "60000/60000 [==============================] - 0s 3us/step - loss: 0.3406 - accuracy: 0.9066 - val_loss: 0.3207 - val_accuracy: 0.9115\n",
      "Epoch 16/30\n",
      "60000/60000 [==============================] - ETA: 0s - loss: 0.3264 - accuracy: 0.90 - 0s 3us/step - loss: 0.3253 - accuracy: 0.9097 - val_loss: 0.3079 - val_accuracy: 0.9138\n",
      "Epoch 17/30\n",
      "60000/60000 [==============================] - 0s 3us/step - loss: 0.3124 - accuracy: 0.9121 - val_loss: 0.2970 - val_accuracy: 0.9159\n",
      "Epoch 18/30\n",
      "60000/60000 [==============================] - 0s 3us/step - loss: 0.3014 - accuracy: 0.9146 - val_loss: 0.2876 - val_accuracy: 0.9178\n",
      "Epoch 19/30\n",
      "60000/60000 [==============================] - 0s 3us/step - loss: 0.2917 - accuracy: 0.9167 - val_loss: 0.2795 - val_accuracy: 0.9194\n",
      "Epoch 20/30\n",
      "60000/60000 [==============================] - 0s 3us/step - loss: 0.2832 - accuracy: 0.9189 - val_loss: 0.2723 - val_accuracy: 0.9207\n",
      "Epoch 21/30\n",
      "60000/60000 [==============================] - 0s 3us/step - loss: 0.2755 - accuracy: 0.9211 - val_loss: 0.2657 - val_accuracy: 0.9230\n",
      "Epoch 22/30\n",
      "60000/60000 [==============================] - 0s 3us/step - loss: 0.2685 - accuracy: 0.9227 - val_loss: 0.2599 - val_accuracy: 0.9242\n",
      "Epoch 23/30\n",
      "60000/60000 [==============================] - 0s 3us/step - loss: 0.2621 - accuracy: 0.9244 - val_loss: 0.2544 - val_accuracy: 0.9251\n",
      "Epoch 24/30\n",
      "60000/60000 [==============================] - 0s 3us/step - loss: 0.2562 - accuracy: 0.9257 - val_loss: 0.2492 - val_accuracy: 0.9268\n",
      "Epoch 25/30\n",
      "60000/60000 [==============================] - 0s 3us/step - loss: 0.2507 - accuracy: 0.9269 - val_loss: 0.2444 - val_accuracy: 0.9279\n",
      "Epoch 26/30\n",
      "60000/60000 [==============================] - 0s 3us/step - loss: 0.2456 - accuracy: 0.9286 - val_loss: 0.2399 - val_accuracy: 0.9294\n",
      "Epoch 27/30\n",
      "60000/60000 [==============================] - 0s 3us/step - loss: 0.2407 - accuracy: 0.9300 - val_loss: 0.2356 - val_accuracy: 0.9301\n",
      "Epoch 28/30\n",
      "60000/60000 [==============================] - 0s 3us/step - loss: 0.2361 - accuracy: 0.9310 - val_loss: 0.2317 - val_accuracy: 0.9309\n",
      "Epoch 29/30\n",
      "60000/60000 [==============================] - 0s 4us/step - loss: 0.2318 - accuracy: 0.9324 - val_loss: 0.2278 - val_accuracy: 0.9323\n",
      "Epoch 30/30\n",
      "60000/60000 [==============================] - 0s 3us/step - loss: 0.2277 - accuracy: 0.9332 - val_loss: 0.2242 - val_accuracy: 0.9333\n"
     ]
    }
   ],
   "source": [
    "# -- NEURAL NETWORK -- #\n",
    "import neural_network\n",
    "history0 = neural_network.fit(30, 30, x_train0, y_train, x_test0, y_test)\n",
    "end = time.time()"
   ]
  },
  {
   "cell_type": "code",
   "execution_count": 9,
   "metadata": {},
   "outputs": [
    {
     "name": "stdout",
     "output_type": "stream",
     "text": [
      "13.744801759719849\n",
      "522125312\n"
     ]
    }
   ],
   "source": [
    "print(end-start)\n",
    "process = psutil.Process(os.getpid())\n",
    "print(process.memory_info().rss) # in bytes\n",
    "\n",
    "# rss: aka “Resident Set Size”, this is the non-swapped physical memory a process has used.\n",
    "# https://psutil.readthedocs.io/en/latest/#psutil.Process.memory_info"
   ]
  }
 ],
 "metadata": {
  "kernelspec": {
   "display_name": "tf",
   "language": "python",
   "name": "tf"
  },
  "language_info": {
   "codemirror_mode": {
    "name": "ipython",
    "version": 3
   },
   "file_extension": ".py",
   "mimetype": "text/x-python",
   "name": "python",
   "nbconvert_exporter": "python",
   "pygments_lexer": "ipython3",
   "version": "3.7.9"
  }
 },
 "nbformat": 4,
 "nbformat_minor": 4
}
