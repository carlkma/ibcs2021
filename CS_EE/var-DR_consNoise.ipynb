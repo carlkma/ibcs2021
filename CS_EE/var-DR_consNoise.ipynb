{
 "cells": [
  {
   "cell_type": "code",
   "execution_count": 41,
   "metadata": {},
   "outputs": [],
   "source": [
    "# VARIABLE: METHOD OF DR\n",
    "# CONSTANT: NOISE"
   ]
  },
  {
   "cell_type": "code",
   "execution_count": 42,
   "metadata": {},
   "outputs": [],
   "source": [
    "# -- IMPORTS -- #\n",
    "import math\n",
    "import scipy\n",
    "import numpy as np\n",
    "from skimage import util\n",
    "import matplotlib.pyplot as plt\n",
    "from keras.datasets import mnist\n",
    "from keras.utils import to_categorical"
   ]
  },
  {
   "cell_type": "code",
   "execution_count": 43,
   "metadata": {},
   "outputs": [],
   "source": [
    "# -- TRAIN AND TEST DATA PREPARATION -- #\n",
    "(x_train, y_train), (x_test, y_test) = mnist.load_data()\n",
    "x_test_noisy = np.empty((len(x_test),28,28),dtype=\"float64\")\n",
    "\n",
    "std = 10000\n",
    "for i in range(len(x_test)):\n",
    "    x_test_noisy[i] = util.random_noise(x_test[i],mode=\"speckle\",var=std**2)"
   ]
  },
  {
   "cell_type": "code",
   "execution_count": 44,
   "metadata": {},
   "outputs": [
    {
     "name": "stdout",
     "output_type": "stream",
     "text": [
      "-24.97611205086899\n"
     ]
    },
    {
     "data": {
      "image/png": "[encoded data removed]",
      "text/plain": [
       "<Figure size 432x288 with 1 Axes>"
      ]
     },
     "metadata": {
      "needs_background": "light"
     },
     "output_type": "display_data"
    }
   ],
   "source": [
    "# -- OUTPUT SNR AND SAMPLE NOISY IMAGE -- #\n",
    "p_signal = np.mean(x_test[30])\n",
    "p_noise = std\n",
    "snr = 10 * math.log(p_signal/p_noise,10)\n",
    "print(snr)\n",
    "\n",
    "plt.imshow(x_test_noisy[30],cmap=plt.cm.binary)\n",
    "#plt.savefig('speckle10000.png')\n",
    "plt.show()"
   ]
  },
  {
   "cell_type": "code",
   "execution_count": 5,
   "metadata": {},
   "outputs": [],
   "source": [
    "# -- CONVERTING DATA FOR INPUT INTO NEURAL NETWORK -- #\n",
    "x_train = x_train.reshape((60000,28*28))\n",
    "x_train = x_train.astype(\"float32\") / 255\n",
    "\n",
    "x_test = x_test.reshape((10000,28*28))\n",
    "x_test_noisy = x_test_noisy.reshape((10000,28*28))\n",
    "\n",
    "y_train = to_categorical(y_train)\n",
    "y_test = to_categorical(y_test)"
   ]
  },
  {
   "cell_type": "code",
   "execution_count": 6,
   "metadata": {},
   "outputs": [],
   "source": [
    "# -- DIMENSIONALITY REDUCTION -- #\n",
    "import dim_reduction\n",
    "x_train0, x_test_noisy0 = x_train.copy(), x_test_noisy.copy()\n",
    "x_train1, x_test_noisy1 = dim_reduction.apply(30, x_train, x_test_noisy, \"PCA\")\n",
    "x_train2, x_test_noisy2 = dim_reduction.apply(30, x_train, x_test_noisy, \"FA\")"
   ]
  },
  {
   "cell_type": "code",
   "execution_count": 7,
   "metadata": {},
   "outputs": [
    {
     "name": "stdout",
     "output_type": "stream",
     "text": [
      "Train on 60000 samples, validate on 10000 samples\n",
      "Epoch 1/30\n",
      "60000/60000 [==============================] - 1s 11us/step - loss: 1.6224 - accuracy: 0.5986 - val_loss: 1.1048 - val_accuracy: 0.8130\n",
      "Epoch 2/30\n",
      "60000/60000 [==============================] - 1s 10us/step - loss: 0.7787 - accuracy: 0.8387 - val_loss: 0.6289 - val_accuracy: 0.8687\n",
      "Epoch 3/30\n",
      "60000/60000 [==============================] - 1s 9us/step - loss: 0.5005 - accuracy: 0.8781 - val_loss: 0.4767 - val_accuracy: 0.8876\n",
      "Epoch 4/30\n",
      "60000/60000 [==============================] - 1s 9us/step - loss: 0.3994 - accuracy: 0.8964 - val_loss: 0.4008 - val_accuracy: 0.9027\n",
      "Epoch 5/30\n",
      "60000/60000 [==============================] - 1s 10us/step - loss: 0.3499 - accuracy: 0.9066 - val_loss: 0.3698 - val_accuracy: 0.9071\n",
      "Epoch 6/30\n",
      "60000/60000 [==============================] - 1s 10us/step - loss: 0.3195 - accuracy: 0.9131 - val_loss: 0.3501 - val_accuracy: 0.9099\n",
      "Epoch 7/30\n",
      "60000/60000 [==============================] - 1s 9us/step - loss: 0.2983 - accuracy: 0.9185 - val_loss: 0.3353 - val_accuracy: 0.9151\n",
      "Epoch 8/30\n",
      "60000/60000 [==============================] - 1s 10us/step - loss: 0.2818 - accuracy: 0.9226 - val_loss: 0.3224 - val_accuracy: 0.9160\n",
      "Epoch 9/30\n",
      "60000/60000 [==============================] - 1s 10us/step - loss: 0.2682 - accuracy: 0.9264 - val_loss: 0.3115 - val_accuracy: 0.9195\n",
      "Epoch 10/30\n",
      "60000/60000 [==============================] - 1s 10us/step - loss: 0.2562 - accuracy: 0.9294 - val_loss: 0.3164 - val_accuracy: 0.9162\n",
      "Epoch 11/30\n",
      "60000/60000 [==============================] - 1s 9us/step - loss: 0.2460 - accuracy: 0.9325 - val_loss: 0.3013 - val_accuracy: 0.9201\n",
      "Epoch 12/30\n",
      "60000/60000 [==============================] - 1s 10us/step - loss: 0.2368 - accuracy: 0.9347 - val_loss: 0.2910 - val_accuracy: 0.9221\n",
      "Epoch 13/30\n",
      "60000/60000 [==============================] - 1s 10us/step - loss: 0.2285 - accuracy: 0.9369 - val_loss: 0.2889 - val_accuracy: 0.9236\n",
      "Epoch 14/30\n",
      "60000/60000 [==============================] - 1s 10us/step - loss: 0.2209 - accuracy: 0.9391 - val_loss: 0.2811 - val_accuracy: 0.9259\n",
      "Epoch 15/30\n",
      "60000/60000 [==============================] - 1s 10us/step - loss: 0.2138 - accuracy: 0.9410 - val_loss: 0.2895 - val_accuracy: 0.9220\n",
      "Epoch 16/30\n",
      "60000/60000 [==============================] - 1s 9us/step - loss: 0.2072 - accuracy: 0.9428 - val_loss: 0.2778 - val_accuracy: 0.9262\n",
      "Epoch 17/30\n",
      "60000/60000 [==============================] - 1s 10us/step - loss: 0.2010 - accuracy: 0.9446 - val_loss: 0.2795 - val_accuracy: 0.9240\n",
      "Epoch 18/30\n",
      "60000/60000 [==============================] - 1s 9us/step - loss: 0.1952 - accuracy: 0.9462 - val_loss: 0.2636 - val_accuracy: 0.9291\n",
      "Epoch 19/30\n",
      "60000/60000 [==============================] - 1s 10us/step - loss: 0.1898 - accuracy: 0.9476 - val_loss: 0.2729 - val_accuracy: 0.9264\n",
      "Epoch 20/30\n",
      "60000/60000 [==============================] - 1s 10us/step - loss: 0.1846 - accuracy: 0.9489 - val_loss: 0.2648 - val_accuracy: 0.9290\n",
      "Epoch 21/30\n",
      "60000/60000 [==============================] - 1s 10us/step - loss: 0.1797 - accuracy: 0.9500 - val_loss: 0.2585 - val_accuracy: 0.9299\n",
      "Epoch 22/30\n",
      "60000/60000 [==============================] - 1s 10us/step - loss: 0.1750 - accuracy: 0.9510 - val_loss: 0.2590 - val_accuracy: 0.9295\n",
      "Epoch 23/30\n",
      "60000/60000 [==============================] - 1s 10us/step - loss: 0.1705 - accuracy: 0.9526 - val_loss: 0.2563 - val_accuracy: 0.9303\n",
      "Epoch 24/30\n",
      "60000/60000 [==============================] - 1s 10us/step - loss: 0.1661 - accuracy: 0.9535 - val_loss: 0.2508 - val_accuracy: 0.9311\n",
      "Epoch 25/30\n",
      "60000/60000 [==============================] - 1s 10us/step - loss: 0.1621 - accuracy: 0.9549 - val_loss: 0.2454 - val_accuracy: 0.9338\n",
      "Epoch 26/30\n",
      "60000/60000 [==============================] - 1s 10us/step - loss: 0.1583 - accuracy: 0.9560 - val_loss: 0.2468 - val_accuracy: 0.9343\n",
      "Epoch 27/30\n",
      "60000/60000 [==============================] - 1s 10us/step - loss: 0.1545 - accuracy: 0.9570 - val_loss: 0.2454 - val_accuracy: 0.9325\n",
      "Epoch 28/30\n",
      "60000/60000 [==============================] - 1s 11us/step - loss: 0.1509 - accuracy: 0.9578 - val_loss: 0.2434 - val_accuracy: 0.9347\n",
      "Epoch 29/30\n",
      "60000/60000 [==============================] - 1s 10us/step - loss: 0.1475 - accuracy: 0.9587 - val_loss: 0.2462 - val_accuracy: 0.9325\n",
      "Epoch 30/30\n",
      "60000/60000 [==============================] - 1s 9us/step - loss: 0.1443 - accuracy: 0.9595 - val_loss: 0.2549 - val_accuracy: 0.9297\n",
      "Train on 60000 samples, validate on 10000 samples\n",
      "Epoch 1/30\n",
      "60000/60000 [==============================] - 0s 4us/step - loss: 2.4249 - accuracy: 0.2315 - val_loss: 3.9415 - val_accuracy: 0.1976\n",
      "Epoch 2/30\n",
      "60000/60000 [==============================] - 0s 3us/step - loss: 1.3506 - accuracy: 0.5845 - val_loss: 3.1127 - val_accuracy: 0.2854\n",
      "Epoch 3/30\n",
      "60000/60000 [==============================] - 0s 3us/step - loss: 0.8294 - accuracy: 0.7697 - val_loss: 2.4896 - val_accuracy: 0.3928\n",
      "Epoch 4/30\n",
      "60000/60000 [==============================] - 0s 3us/step - loss: 0.5963 - accuracy: 0.8323 - val_loss: 2.1699 - val_accuracy: 0.4677\n",
      "Epoch 5/30\n",
      "60000/60000 [==============================] - 0s 3us/step - loss: 0.4813 - accuracy: 0.8618 - val_loss: 1.9974 - val_accuracy: 0.5142\n",
      "Epoch 6/30\n",
      "60000/60000 [==============================] - 0s 3us/step - loss: 0.4164 - accuracy: 0.8795 - val_loss: 1.9175 - val_accuracy: 0.5373\n",
      "Epoch 7/30\n",
      "60000/60000 [==============================] - 0s 3us/step - loss: 0.3750 - accuracy: 0.8908 - val_loss: 1.8977 - val_accuracy: 0.5445\n",
      "Epoch 8/30\n",
      "60000/60000 [==============================] - 0s 3us/step - loss: 0.3460 - accuracy: 0.8986 - val_loss: 1.8972 - val_accuracy: 0.5468\n",
      "Epoch 9/30\n",
      "60000/60000 [==============================] - 0s 3us/step - loss: 0.3241 - accuracy: 0.9041 - val_loss: 1.9298 - val_accuracy: 0.5437\n",
      "Epoch 10/30\n",
      "60000/60000 [==============================] - 0s 3us/step - loss: 0.3064 - accuracy: 0.9090 - val_loss: 1.9537 - val_accuracy: 0.5429\n",
      "Epoch 11/30\n",
      "60000/60000 [==============================] - 0s 3us/step - loss: 0.2918 - accuracy: 0.9129 - val_loss: 1.9849 - val_accuracy: 0.5397\n",
      "Epoch 12/30\n",
      "60000/60000 [==============================] - 0s 3us/step - loss: 0.2795 - accuracy: 0.9166 - val_loss: 2.0405 - val_accuracy: 0.5369\n",
      "Epoch 13/30\n",
      "60000/60000 [==============================] - 0s 3us/step - loss: 0.2688 - accuracy: 0.9194 - val_loss: 2.0591 - val_accuracy: 0.5362\n",
      "Epoch 14/30\n",
      "60000/60000 [==============================] - 0s 3us/step - loss: 0.2593 - accuracy: 0.9217 - val_loss: 2.0785 - val_accuracy: 0.5340\n",
      "Epoch 15/30\n",
      "60000/60000 [==============================] - 0s 3us/step - loss: 0.2508 - accuracy: 0.9243 - val_loss: 2.1130 - val_accuracy: 0.5323\n",
      "Epoch 16/30\n",
      "60000/60000 [==============================] - 0s 3us/step - loss: 0.2432 - accuracy: 0.9264 - val_loss: 2.1331 - val_accuracy: 0.5320\n",
      "Epoch 17/30\n",
      "60000/60000 [==============================] - 0s 3us/step - loss: 0.2363 - accuracy: 0.9281 - val_loss: 2.1686 - val_accuracy: 0.5281\n",
      "Epoch 18/30\n",
      "60000/60000 [==============================] - 0s 3us/step - loss: 0.2299 - accuracy: 0.9305 - val_loss: 2.1861 - val_accuracy: 0.5281\n",
      "Epoch 19/30\n",
      "60000/60000 [==============================] - 0s 3us/step - loss: 0.2241 - accuracy: 0.9322 - val_loss: 2.1849 - val_accuracy: 0.5292\n",
      "Epoch 20/30\n",
      "60000/60000 [==============================] - 0s 3us/step - loss: 0.2186 - accuracy: 0.9338 - val_loss: 2.2035 - val_accuracy: 0.5272\n",
      "Epoch 21/30\n",
      "60000/60000 [==============================] - 0s 3us/step - loss: 0.2136 - accuracy: 0.9356 - val_loss: 2.2000 - val_accuracy: 0.5293\n",
      "Epoch 22/30\n",
      "60000/60000 [==============================] - 0s 3us/step - loss: 0.2088 - accuracy: 0.9366 - val_loss: 2.2263 - val_accuracy: 0.5283\n",
      "Epoch 23/30\n",
      "60000/60000 [==============================] - 0s 3us/step - loss: 0.2044 - accuracy: 0.9384 - val_loss: 2.2242 - val_accuracy: 0.5307\n",
      "Epoch 24/30\n",
      "60000/60000 [==============================] - 0s 3us/step - loss: 0.2002 - accuracy: 0.9393 - val_loss: 2.2349 - val_accuracy: 0.5281\n",
      "Epoch 25/30\n",
      "60000/60000 [==============================] - 0s 3us/step - loss: 0.1962 - accuracy: 0.9407 - val_loss: 2.2454 - val_accuracy: 0.5298\n",
      "Epoch 26/30\n"
     ]
    },
    {
     "name": "stdout",
     "output_type": "stream",
     "text": [
      "60000/60000 [==============================] - 0s 3us/step - loss: 0.1925 - accuracy: 0.9416 - val_loss: 2.2541 - val_accuracy: 0.5290\n",
      "Epoch 27/30\n",
      "60000/60000 [==============================] - 0s 3us/step - loss: 0.1890 - accuracy: 0.9426 - val_loss: 2.2654 - val_accuracy: 0.5292\n",
      "Epoch 28/30\n",
      "60000/60000 [==============================] - ETA: 0s - loss: 0.1840 - accuracy: 0.94 - 0s 3us/step - loss: 0.1857 - accuracy: 0.9438 - val_loss: 2.2756 - val_accuracy: 0.5276\n",
      "Epoch 29/30\n",
      "60000/60000 [==============================] - 0s 3us/step - loss: 0.1825 - accuracy: 0.9448 - val_loss: 2.2871 - val_accuracy: 0.5259\n",
      "Epoch 30/30\n",
      "60000/60000 [==============================] - 0s 3us/step - loss: 0.1795 - accuracy: 0.9458 - val_loss: 2.3078 - val_accuracy: 0.5252\n",
      "Train on 60000 samples, validate on 10000 samples\n",
      "Epoch 1/30\n",
      "60000/60000 [==============================] - 0s 4us/step - loss: 2.2386 - accuracy: 0.1736 - val_loss: 2.1274 - val_accuracy: 0.2444\n",
      "Epoch 2/30\n",
      "60000/60000 [==============================] - 0s 3us/step - loss: 1.8777 - accuracy: 0.4561 - val_loss: 1.8224 - val_accuracy: 0.4846\n",
      "Epoch 3/30\n",
      "60000/60000 [==============================] - 0s 3us/step - loss: 1.5666 - accuracy: 0.6621 - val_loss: 1.5558 - val_accuracy: 0.6388\n",
      "Epoch 4/30\n",
      "60000/60000 [==============================] - 0s 3us/step - loss: 1.2998 - accuracy: 0.7631 - val_loss: 1.3233 - val_accuracy: 0.7274\n",
      "Epoch 5/30\n",
      "60000/60000 [==============================] - 0s 3us/step - loss: 1.0758 - accuracy: 0.8102 - val_loss: 1.1240 - val_accuracy: 0.7755\n",
      "Epoch 6/30\n",
      "60000/60000 [==============================] - 0s 3us/step - loss: 0.8941 - accuracy: 0.8362 - val_loss: 0.9595 - val_accuracy: 0.8089\n",
      "Epoch 7/30\n",
      "60000/60000 [==============================] - 0s 3us/step - loss: 0.7507 - accuracy: 0.8540 - val_loss: 0.8267 - val_accuracy: 0.8274\n",
      "Epoch 8/30\n",
      "60000/60000 [==============================] - 0s 3us/step - loss: 0.6397 - accuracy: 0.8658 - val_loss: 0.7224 - val_accuracy: 0.8437\n",
      "Epoch 9/30\n",
      "60000/60000 [==============================] - 0s 3us/step - loss: 0.5550 - accuracy: 0.8758 - val_loss: 0.6414 - val_accuracy: 0.8546\n",
      "Epoch 10/30\n",
      "60000/60000 [==============================] - 0s 3us/step - loss: 0.4914 - accuracy: 0.8840 - val_loss: 0.5801 - val_accuracy: 0.8615\n",
      "Epoch 11/30\n",
      "60000/60000 [==============================] - 0s 3us/step - loss: 0.4434 - accuracy: 0.8912 - val_loss: 0.5332 - val_accuracy: 0.8675\n",
      "Epoch 12/30\n",
      "60000/60000 [==============================] - 0s 3us/step - loss: 0.4067 - accuracy: 0.8965 - val_loss: 0.4965 - val_accuracy: 0.8740\n",
      "Epoch 13/30\n",
      "60000/60000 [==============================] - 0s 3us/step - loss: 0.3785 - accuracy: 0.9014 - val_loss: 0.4678 - val_accuracy: 0.8799\n",
      "Epoch 14/30\n",
      "60000/60000 [==============================] - 0s 3us/step - loss: 0.3558 - accuracy: 0.9049 - val_loss: 0.4448 - val_accuracy: 0.8834\n",
      "Epoch 15/30\n",
      "60000/60000 [==============================] - 0s 3us/step - loss: 0.3375 - accuracy: 0.9081 - val_loss: 0.4264 - val_accuracy: 0.8863\n",
      "Epoch 16/30\n",
      "60000/60000 [==============================] - 0s 3us/step - loss: 0.3224 - accuracy: 0.9111 - val_loss: 0.4113 - val_accuracy: 0.8887\n",
      "Epoch 17/30\n",
      "60000/60000 [==============================] - 0s 3us/step - loss: 0.3097 - accuracy: 0.9136 - val_loss: 0.3988 - val_accuracy: 0.8903\n",
      "Epoch 18/30\n",
      "60000/60000 [==============================] - 0s 3us/step - loss: 0.2988 - accuracy: 0.9161 - val_loss: 0.3883 - val_accuracy: 0.8930\n",
      "Epoch 19/30\n",
      "60000/60000 [==============================] - 0s 3us/step - loss: 0.2892 - accuracy: 0.9181 - val_loss: 0.3793 - val_accuracy: 0.8944\n",
      "Epoch 20/30\n",
      "60000/60000 [==============================] - 0s 3us/step - loss: 0.2807 - accuracy: 0.9205 - val_loss: 0.3716 - val_accuracy: 0.8947\n",
      "Epoch 21/30\n",
      "60000/60000 [==============================] - 0s 3us/step - loss: 0.2731 - accuracy: 0.9223 - val_loss: 0.3638 - val_accuracy: 0.8955\n",
      "Epoch 22/30\n",
      "60000/60000 [==============================] - 0s 3us/step - loss: 0.2661 - accuracy: 0.9240 - val_loss: 0.3573 - val_accuracy: 0.8964\n",
      "Epoch 23/30\n",
      "60000/60000 [==============================] - 0s 3us/step - loss: 0.2597 - accuracy: 0.9256 - val_loss: 0.3511 - val_accuracy: 0.8987\n",
      "Epoch 24/30\n",
      "60000/60000 [==============================] - 0s 3us/step - loss: 0.2538 - accuracy: 0.9274 - val_loss: 0.3457 - val_accuracy: 0.8994\n",
      "Epoch 25/30\n",
      "60000/60000 [==============================] - 0s 3us/step - loss: 0.2482 - accuracy: 0.9291 - val_loss: 0.3412 - val_accuracy: 0.9010\n",
      "Epoch 26/30\n",
      "60000/60000 [==============================] - 0s 3us/step - loss: 0.2431 - accuracy: 0.9304 - val_loss: 0.3363 - val_accuracy: 0.9027\n",
      "Epoch 27/30\n",
      "60000/60000 [==============================] - 0s 3us/step - loss: 0.2383 - accuracy: 0.9318 - val_loss: 0.3328 - val_accuracy: 0.9037\n",
      "Epoch 28/30\n",
      "60000/60000 [==============================] - 0s 3us/step - loss: 0.2337 - accuracy: 0.9330 - val_loss: 0.3285 - val_accuracy: 0.9049\n",
      "Epoch 29/30\n",
      "60000/60000 [==============================] - 0s 3us/step - loss: 0.2294 - accuracy: 0.9341 - val_loss: 0.3238 - val_accuracy: 0.9062\n",
      "Epoch 30/30\n",
      "60000/60000 [==============================] - 0s 3us/step - loss: 0.2253 - accuracy: 0.9351 - val_loss: 0.3204 - val_accuracy: 0.9069\n"
     ]
    }
   ],
   "source": [
    "# -- NEURAL NETWORK -- #\n",
    "import neural_network\n",
    "history0 = neural_network.fit(784, 30, x_train0, y_train, x_test_noisy0, y_test)\n",
    "history1 = neural_network.fit(30, 30, x_train1, y_train, x_test_noisy1, y_test)\n",
    "history2 = neural_network.fit(30, 30, x_train2, y_train, x_test_noisy2, y_test)"
   ]
  },
  {
   "cell_type": "code",
   "execution_count": 8,
   "metadata": {},
   "outputs": [
    {
     "data": {
      "image/png": "[encoded data removed]",
      "text/plain": [
       "<Figure size 432x288 with 1 Axes>"
      ]
     },
     "metadata": {
      "needs_background": "light"
     },
     "output_type": "display_data"
    }
   ],
   "source": [
    "# -- OUTPUT PLOTS -- #\n",
    "plt.plot(history0.history[\"val_accuracy\"])\n",
    "plt.plot(history1.history[\"val_accuracy\"])\n",
    "plt.plot(history2.history[\"val_accuracy\"])\n",
    "plt.title(\"Model Accuracy (Gaussain)\")\n",
    "plt.ylabel(\"Accuracy\")\n",
    "plt.ylim(0.6, 1.0)\n",
    "plt.xlabel(\"Epoch\")\n",
    "plt.legend([\"None\", \"PCA\", \"FA\"],loc=\"lower right\")\n",
    "plt.show()"
   ]
  }
 ],
 "metadata": {
  "kernelspec": {
   "display_name": "tf",
   "language": "python",
   "name": "tf"
  },
  "language_info": {
   "codemirror_mode": {
    "name": "ipython",
    "version": 3
   },
   "file_extension": ".py",
   "mimetype": "text/x-python",
   "name": "python",
   "nbconvert_exporter": "python",
   "pygments_lexer": "ipython3",
   "version": "3.7.9"
  }
 },
 "nbformat": 4,
 "nbformat_minor": 4
}
